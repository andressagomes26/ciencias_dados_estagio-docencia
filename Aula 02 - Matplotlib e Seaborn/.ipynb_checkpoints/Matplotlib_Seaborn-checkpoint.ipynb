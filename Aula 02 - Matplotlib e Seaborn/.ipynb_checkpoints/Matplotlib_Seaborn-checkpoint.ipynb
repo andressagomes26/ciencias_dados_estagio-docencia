{
 "cells": [
  {
   "cell_type": "markdown",
   "id": "a4158277",
   "metadata": {},
   "source": [
    "# <font color = #119fbf> **Visualização de Dados com Matplotlib e Seaborn**</font>\n",
    "\n",
    "* Programa de Pós-Graduação em Engenharia Elétrica e de Computação (PPGEEC)\n",
    "* Introdução à Ciências de Dados - UFC *Campus* Sobral – 2023.1\n",
    "* Andressa Gomes Moreira - andressagomes@alu.ufc.br"
   ]
  },
  {
   "cell_type": "markdown",
   "id": "fed81909",
   "metadata": {},
   "source": [
    "## Instalação e importação"
   ]
  },
  {
   "cell_type": "code",
   "execution_count": null,
   "id": "a6e54fc0",
   "metadata": {},
   "outputs": [],
   "source": [
    "# Instalação usando pip:\n",
    "#!pip install matplotlib\n",
    "#!pip install seaborn"
   ]
  },
  {
   "cell_type": "code",
   "execution_count": null,
   "id": "39e513c4",
   "metadata": {},
   "outputs": [],
   "source": [
    "import matplotlib.pyplot as plt\n",
    "import seaborn as sns\n",
    "import numpy as np\n",
    "import pandas as pd"
   ]
  },
  {
   "cell_type": "markdown",
   "id": "82ebe162",
   "metadata": {},
   "source": [
    "## Introdução"
   ]
  },
  {
   "cell_type": "markdown",
   "id": "f569a385",
   "metadata": {},
   "source": [
    "### Figure e Axes\n",
    "\n",
    "- **Figure**: Os dados são representados graficamente Figures (janelas)\n",
    "\n",
    "    - O método para criar uma Figure: *```plt.figure()```* \n",
    "\n",
    "- **Axes**: Os objetos que compõem a Figure.\n",
    "\n",
    "    - O método para criar uma Axes: *```plt.add_axes()```*"
   ]
  },
  {
   "cell_type": "code",
   "execution_count": null,
   "id": "69b04c48",
   "metadata": {},
   "outputs": [],
   "source": [
    "fig = plt.figure()\n",
    "ax = fig.add_axes([0, 0, 1, 1])"
   ]
  },
  {
   "cell_type": "markdown",
   "id": "ad0273bb",
   "metadata": {},
   "source": [
    "> Outra forma de criar uma nova Figura: *```plt.subplots()```*"
   ]
  },
  {
   "cell_type": "code",
   "execution_count": null,
   "id": "0a1827d5",
   "metadata": {},
   "outputs": [],
   "source": [
    "fig = plt.figure()\n",
    "fig, ax = plt.subplots()"
   ]
  },
  {
   "cell_type": "code",
   "execution_count": null,
   "id": "16baa4a7",
   "metadata": {},
   "outputs": [],
   "source": [
    "fig, axs = plt.subplots(nrows=2, ncols=2)"
   ]
  },
  {
   "cell_type": "code",
   "execution_count": null,
   "id": "4a037b20",
   "metadata": {},
   "outputs": [],
   "source": [
    "# Ajustando o gráfico\n",
    "fig, axs = plt.subplots(nrows=2, ncols=2)  \n",
    "plt.tight_layout()"
   ]
  },
  {
   "cell_type": "markdown",
   "id": "c2244a7b",
   "metadata": {},
   "source": [
    "## Tipos de Gráficos com *Matplotlib* e *Seaborn*"
   ]
  },
  {
   "cell_type": "markdown",
   "id": "8a12aa50",
   "metadata": {},
   "source": [
    "### 1. Gráfico de Linha\n",
    "\n",
    "- O método para criar um gráfico de Linha: \n",
    "    - Matplotlib: *```plt.plot()```*\n",
    "    \n",
    "    - Seaborn: *```sns.lineplot()```*\n"
   ]
  },
  {
   "cell_type": "code",
   "execution_count": null,
   "id": "f700e307",
   "metadata": {},
   "outputs": [],
   "source": [
    "fig = plt.figure()\n",
    "ax = fig.subplots()\n",
    "ax.plot([1, 2, 3, 4], [0, 0.5, 1, 0.2])"
   ]
  },
  {
   "cell_type": "markdown",
   "id": "edca049d",
   "metadata": {},
   "source": [
    "**É possível também adicionar parâmetros no gráfico**\n",
    "\n",
    "* **Tamanho da figura:** *```figsize=(width, height)```*\n",
    "\n",
    "* **Marcadores:** Ponto ('.'), Pixel (','), Círculo ('o'), Estrela ('*'), Linha ('_'), entre outros.\n",
    "    \n",
    "* **Estilos de linha:** Sólida ('-'), Tracejada: ('--'), Traço-ponto (':').\n",
    "    \n",
    "* **Cor**: azul: ('b'), vermelho: ('r'), magenta: ('m'), ciano: ('c'), preto: ('k'), branco: ('w')\n",
    "\n",
    "* **Título:** *```ax.set_title('')```*\n",
    "\n",
    "* **Grid:** *```ax.grid()```*"
   ]
  },
  {
   "cell_type": "code",
   "execution_count": null,
   "id": "c154df4b",
   "metadata": {},
   "outputs": [],
   "source": [
    "ano = [1950, 1960, 1970, 1980, 1990, 2000, 2010] # Eixo x\n",
    "faturamento = [300.2, 543.3, 1075.9, 2862.5, 5979.6, 10289.7, 14958.3] # Eixo y\n",
    "\n",
    "# Cria uma figura com tamanho 7x5\n",
    "fig, ax = plt.subplots(figsize=(7, 5))\n",
    "\n",
    "# Cria um gráfico de linha\n",
    "ax.plot(ano, faturamento, color='g', marker='o', linestyle='-')\n",
    "\n",
    "# Adicionar um título ao gráfico\n",
    "ax.set_title(\"Faturamento por ano\")\n",
    "\n",
    "# Adicionar Grid \n",
    "ax.grid(True)\n",
    "\n",
    "# Exibir Figura\n",
    "plt.show()"
   ]
  },
  {
   "cell_type": "code",
   "execution_count": null,
   "id": "c288da1a",
   "metadata": {},
   "outputs": [],
   "source": [
    "# Estabelecer os dados\n",
    "x= np.linspace(-5, 5, 100)\n",
    "\n",
    "# Cria uma figura com tamanho 7x5\n",
    "fig, ax = plt.subplots(figsize=(7, 5))\n",
    "\n",
    "# Cria o gráfico de linhas\n",
    "ax.plot(x, np.sin(x), label = 'y = sin(x)', color='purple')\n",
    "ax.plot(x, np.cos(x), label = 'y = cos(x)', color='pink')\n",
    "\n",
    "# Adicionar um título ao gráfico\n",
    "ax.set_title(\"Funções seno e cosseno\")\n",
    "\n",
    "# Exibir legenda\n",
    "plt.legend()\n",
    "\n",
    "# Exibir Figura\n",
    "plt.show()"
   ]
  },
  {
   "cell_type": "markdown",
   "id": "946dc587",
   "metadata": {},
   "source": [
    "### Seaborn\n",
    "\n",
    "* Uma segunda alternativa é criar o gráfico de linhas com Seaborn\n",
    "\n",
    "\n",
    "* Vale lembrar, que o Seaborn integra-se com as funcionalidades fornecidas pelo Pandas, como DataFrames."
   ]
  },
  {
   "cell_type": "code",
   "execution_count": null,
   "id": "f64fd92a",
   "metadata": {},
   "outputs": [],
   "source": [
    "# Estabelecer os dados\n",
    "x = np.linspace(-5, 5, 100)\n",
    "\n",
    "data = {\"y = sin(x)\": np.sin(x), \"y = cos(x)\": np.cos(x)}\n",
    "d1 = pd.DataFrame(data)\n",
    "\n",
    "# Cria o gráfico de linhas\n",
    "sns.lineplot(data=d1, palette=\"flare\")"
   ]
  },
  {
   "cell_type": "markdown",
   "id": "0c74b26a",
   "metadata": {},
   "source": [
    "### 2. Gráfico de Pizza\n",
    "\n",
    "- O método para criar um gráfico de Pizza: *```plt.pie()```*"
   ]
  },
  {
   "cell_type": "markdown",
   "id": "0c3007ce",
   "metadata": {},
   "source": [
    "- Para exemplificar, usaremos o dataset **Titanic**\n",
    "\n",
    "> Link para download do dataset **[Titanic](https://www.kaggle.com/c/titanic-dataset/data)**"
   ]
  },
  {
   "cell_type": "code",
   "execution_count": null,
   "id": "5557e6e7",
   "metadata": {},
   "outputs": [],
   "source": [
    "df_titanic = pd.read_csv('./train.csv')\n",
    "df_titanic.head(10)"
   ]
  },
  {
   "cell_type": "code",
   "execution_count": null,
   "id": "40aea067",
   "metadata": {},
   "outputs": [],
   "source": [
    "df_titanic.isnull().sum()"
   ]
  },
  {
   "cell_type": "code",
   "execution_count": null,
   "id": "273ee3b4",
   "metadata": {},
   "outputs": [],
   "source": [
    "df_titanic.dropna(axis=0, how ='any', inplace = True)"
   ]
  },
  {
   "cell_type": "code",
   "execution_count": null,
   "id": "0435bb4a",
   "metadata": {},
   "outputs": [],
   "source": [
    "df_sobreviventes_por_sexo = df_titanic.groupby('Sex')['Survived'].sum().reset_index()\n",
    "df_sobreviventes_por_sexo"
   ]
  },
  {
   "cell_type": "code",
   "execution_count": null,
   "id": "9d621f27",
   "metadata": {},
   "outputs": [],
   "source": [
    "# Estabelecer os dados\n",
    "sexo = df_sobreviventes_por_sexo['Sex']\n",
    "survived = df_sobreviventes_por_sexo['Survived']\n",
    "\n",
    "# Cria uma figura com tamanho 7x5\n",
    "fig, ax = plt.subplots(figsize=(7, 5))\n",
    "\n",
    "# Cria um gráfico de barras\n",
    "ax.pie(survived, explode=(0, 0.05), labels=[sexo[0], sexo[1]], \n",
    "       colors=['lightcoral', 'lightskyblue'], autopct='%1.1f%%')\n",
    "\n",
    "# Adicionar um título ao gráfico\n",
    "ax.set_title(\"Número de sobreviventes do Titanic\")\n",
    "\n",
    "# Exibir Figura\n",
    "plt.show()"
   ]
  },
  {
   "cell_type": "markdown",
   "id": "677a2b14",
   "metadata": {},
   "source": [
    "### 3. Gráfico de Barras\n",
    "\n",
    "- O método para criar um gráfico de Barras: \n",
    "\n",
    "    - Matplotlib: *```plt.bar()```*\n",
    "    \n",
    "    - Seaborn: *```sns.barplot()```*"
   ]
  },
  {
   "cell_type": "markdown",
   "id": "3e48a1d6",
   "metadata": {},
   "source": [
    "**Criando um gráfico de barras com Seaborn**"
   ]
  },
  {
   "cell_type": "code",
   "execution_count": null,
   "id": "381e3125",
   "metadata": {},
   "outputs": [],
   "source": [
    "sns.barplot(data=df_sobreviventes_por_sexo, x=\"Sex\", y=\"Survived\",  hue='Sex')"
   ]
  },
  {
   "cell_type": "markdown",
   "id": "389117ad",
   "metadata": {},
   "source": [
    "**É possível criar o gráfico de barras também com Matplotlib**"
   ]
  },
  {
   "cell_type": "code",
   "execution_count": null,
   "id": "fe46eda5",
   "metadata": {},
   "outputs": [],
   "source": [
    "# Estabelecer os dados\n",
    "age_18 = df_titanic.groupby((df_titanic['Age'] <= 18))['Survived'].sum()\n",
    "age_18_50 = df_titanic.groupby((df_titanic['Age'] > 18) & (df_titanic['Age'] <= 50))['Survived'].sum()\n",
    "age_50 = df_titanic.groupby((df_titanic['Age'] > 50))['Survived'].sum()\n",
    "\n",
    "total_sobreviventes = age_18[1] + age_18_50[1] + age_50[1]\n",
    "total_sobreviventes"
   ]
  },
  {
   "cell_type": "code",
   "execution_count": null,
   "id": "3c3385a4",
   "metadata": {},
   "outputs": [],
   "source": [
    "# Cria uma figura com tamanho 7x5\n",
    "fig, ax = plt.subplots(figsize=(7, 5))\n",
    "\n",
    "# Cria um gráfico de barras\n",
    "ax.bar('Até 18 anos', age_18[1], color='pink')\n",
    "ax.text(0, age_18[1]+0.5, age_18[1], ha = 'center')\n",
    "\n",
    "ax.bar('Entre 18 e 50 anos', age_18_50[1], color='palevioletred')\n",
    "ax.text(1, age_18_50[1]+0.5, age_18_50[1], ha = 'center')\n",
    "\n",
    "ax.bar('Acima de 50 anos', age_50[1], color='mediumvioletred')\n",
    "ax.text(2, age_50[1]+0.5, age_50[1], ha = 'center')\n",
    "\n",
    "# Adicionar um título ao gráfico\n",
    "ax.set_title(\"Número de sobreviventes do Titanic\")\n",
    "\n",
    "# Adicionar um label ao gráfico\n",
    "ax.set_xlabel('Idade')\n",
    "ax.set_ylabel('Número de Sobreviventes')\n",
    "\n",
    "# Exibir Figura\n",
    "plt.show()"
   ]
  },
  {
   "cell_type": "markdown",
   "id": "64611a09",
   "metadata": {},
   "source": [
    " **Visualizar lista de referência de cores no *Matplotlib***"
   ]
  },
  {
   "cell_type": "code",
   "execution_count": null,
   "id": "d1922590",
   "metadata": {},
   "outputs": [],
   "source": [
    "import matplotlib.colors as mcolors\n",
    "\n",
    "mcolors.CSS4_COLORS\n",
    "mcolors.TABLEAU_COLORS\n",
    "mcolors.CSS4_COLORS"
   ]
  },
  {
   "cell_type": "markdown",
   "id": "68ec3ebb",
   "metadata": {},
   "source": [
    "**Gráfico de Barras Horizontais**\n",
    "\n",
    "- O método para criar um gráfico de Barras horizontais: *```plt.barh()```*"
   ]
  },
  {
   "cell_type": "code",
   "execution_count": null,
   "id": "76532ea1",
   "metadata": {},
   "outputs": [],
   "source": [
    "# Cria uma figura com tamanho 7x5\n",
    "fig, ax = plt.subplots(figsize=(7, 5))\n",
    "\n",
    "# Cria um gráfico de barras horizontais\n",
    "ax.barh('Até 18 anos', age_18[1], color='#FFC0CB')\n",
    "ax.barh('Entre 18 e 50 anos', age_18_50[1], color='#DB7093')\n",
    "ax.barh('Acima de 50 anos', age_50[1], color='#C71585')\n",
    "\n",
    "# Adicionar um título ao gráfico\n",
    "ax.set_title(\"Número de sobreviventes do Titanic\")\n",
    "\n",
    "# Adicionar um label ao gráfico\n",
    "ax.set_xlabel('Idade')\n",
    "ax.set_ylabel('Número de Sobreviventes')\n",
    "\n",
    "# Exibir Figura\n",
    "plt.show()"
   ]
  },
  {
   "cell_type": "markdown",
   "id": "e0132e0b",
   "metadata": {},
   "source": [
    "### 4. Histograma\n",
    "\n",
    "- O método para criar um histograma: \n",
    "    - Matplotlib: *```plt.hist()```*\n",
    "    \n",
    "    - Seaborn: *```sns.histplot()```*\n",
    "\n"
   ]
  },
  {
   "cell_type": "code",
   "execution_count": null,
   "id": "500e6948",
   "metadata": {},
   "outputs": [],
   "source": [
    "# Cria uma figura com tamanho 10x5\n",
    "fig, ax = plt.subplots(figsize=(10, 7))\n",
    "\n",
    "# Cria um histograma\n",
    "ax.hist(df_titanic['Age'], 20, color='teal', alpha=0.85)\n",
    "\n",
    "# Adicionar um título ao gráfico\n",
    "ax.set_title(\"Distribuição de Idades\")\n",
    "\n",
    "# Adicionar um label ao gráfico\n",
    "ax.set_xlabel('Idade')\n",
    "ax.set_ylabel('Quantidade de Passageiros')\n",
    "\n",
    "# Exibir Figura\n",
    "plt.show()"
   ]
  },
  {
   "cell_type": "code",
   "execution_count": null,
   "id": "a6cc7423",
   "metadata": {},
   "outputs": [],
   "source": [
    "ax = sns.histplot(data=df_titanic, x='Age', kde=True, bins=20, palette=\"flare\")\n",
    "\n",
    "# Informações no gráfico\n",
    "ax.set_title(\"Distribuição de Idades\")\n",
    "ax.set_xlabel('Idade')\n",
    "ax.set_ylabel('Quantidade de Passageiros')"
   ]
  },
  {
   "cell_type": "markdown",
   "id": "b62d9093",
   "metadata": {},
   "source": [
    "### 5. Boxplot\n",
    "\n",
    "- O método para criar um boxplot: \n",
    "    - Matplotlib: *```plt.boxplot()```*\n",
    "    \n",
    "    - Seaborn: *```sns.boxplot()```*"
   ]
  },
  {
   "cell_type": "code",
   "execution_count": null,
   "id": "001ada06",
   "metadata": {},
   "outputs": [],
   "source": [
    "# Cria uma figura com tamanho 10x5\n",
    "fig, ax = plt.subplots(figsize=(7, 4))\n",
    "\n",
    "# Cria um boxplot\n",
    "ax.boxplot(df_titanic['Age'])\n",
    "\n",
    "# Adicionar um título ao gráfico\n",
    "ax.set_title(\"Distribuição de Idades\")\n",
    "\n",
    "# Exibir Figura\n",
    "plt.show()"
   ]
  },
  {
   "cell_type": "markdown",
   "id": "978c3fab",
   "metadata": {},
   "source": [
    "**O mesmo gráfico feito com Seaborn**"
   ]
  },
  {
   "cell_type": "code",
   "execution_count": null,
   "id": "d0fbf2ac",
   "metadata": {},
   "outputs": [],
   "source": [
    "sns.boxplot(data=df_titanic, y=\"Age\").set_title(\"Distribuição de Idades\")"
   ]
  },
  {
   "cell_type": "markdown",
   "id": "0210f26c",
   "metadata": {},
   "source": [
    "**Dados com *Outlier***"
   ]
  },
  {
   "cell_type": "code",
   "execution_count": null,
   "id": "7435285a",
   "metadata": {},
   "outputs": [],
   "source": [
    "#idade = list(df_titanic['Age'])\n",
    "#idade.append(120)"
   ]
  },
  {
   "cell_type": "markdown",
   "id": "7f7a6c73",
   "metadata": {},
   "source": [
    "## Agrupar os dados com subplots"
   ]
  },
  {
   "cell_type": "code",
   "execution_count": null,
   "id": "49c450d3",
   "metadata": {},
   "outputs": [],
   "source": [
    "fig, axs = plt.subplots(nrows=2, ncols=2, figsize=(16,12))"
   ]
  },
  {
   "cell_type": "code",
   "execution_count": null,
   "id": "6b4f8fbd",
   "metadata": {},
   "outputs": [],
   "source": [
    "# Ajustando o gráfico\n",
    "fig, axs = plt.subplots(nrows=2, ncols=2, figsize=(16,12))\n",
    "fig.suptitle('Gráficos Dataset Titanic', size=30)\n",
    "\n",
    "# Gráfico de Pizza\n",
    "axs[0][0].pie(survived, labels=[sexo[0], sexo[1]], colors=['lightcoral', 'lightskyblue'], autopct='%1.1f%%')\n",
    "axs[0][0].set_title('Gráfico de Pizza')\n",
    "\n",
    "# Gráfico de Barras\n",
    "axs[0][1].bar('Até 18 anos', age_18[1], color='pink') \n",
    "axs[0][1].bar('Entre 18 e 50 anos', age_18_50[1], color='palevioletred')\n",
    "axs[0][1].bar('Acima de 50 anos', age_50[1], color='mediumvioletred')\n",
    "axs[0][1].set_title('Gráfico de Barras')\n",
    "axs[0][1].set_xlabel('Idade')\n",
    "axs[0][1].set_ylabel('Número de Sobreviventes')\n",
    "\n",
    "# Histograma\n",
    "axs[1][0].hist(df_titanic['Age'], 20, color='teal', alpha=0.85)\n",
    "axs[1][0].set_title(\"Histograma\")\n",
    "axs[1][0].set_xlabel('Idade')\n",
    "axs[1][0].set_ylabel('Quantidade de Passageiros')\n",
    "\n",
    "# Boxplot\n",
    "axs[1][1].boxplot(df_titanic['Age'])\n",
    "axs[1][1].set_title(\"Boxplot\")\n",
    "\n",
    "# Salvar imagem\n",
    "fig.savefig('dataset_titanic.png', dpi=fig.dpi)"
   ]
  },
  {
   "cell_type": "markdown",
   "id": "00029200",
   "metadata": {},
   "source": [
    "# Aplicação"
   ]
  },
  {
   "cell_type": "markdown",
   "id": "aef3f518",
   "metadata": {},
   "source": [
    "### Análise e Visualização de Dados - Dataset Iris 🌷🌸\n",
    "\n",
    "> Link para download do dataset **[Iris](https://www.kaggle.com/datasets/saurabh00007/iriscsv)** \n",
    "\n",
    "O dataset possui dados extraídos de 10 mil aplicativos da Google Play Store para análise do mercado Android. \n",
    "\n",
    "O dataset Iris é o \"Hello World\" para a ciência de dados. O conjunto de dados **“Iris.csv”** é composto por 150 amostras e 6 atributos. Cada amostra refere-se a características de uma planta, chamada Iris.\n",
    "Os atributos listados na base de dados são:\n",
    "    \n",
    "1. ID;\n",
    "2. SepalLengthCm - Comprimento da pétala;\n",
    "3. SepalWidthCm - Largura da pétala;\n",
    "4. PetalLengthCm - Comprimento da sépala;\n",
    "5. PetalWidthCm - Largura da sépala;\n",
    "6. Species - Tipo de espécie."
   ]
  },
  {
   "cell_type": "markdown",
   "id": "93732978",
   "metadata": {},
   "source": [
    "#### Carregando o dataset Iris"
   ]
  },
  {
   "cell_type": "code",
   "execution_count": null,
   "id": "bb5308d6",
   "metadata": {},
   "outputs": [],
   "source": [
    "df = pd.read_csv(\"iris.csv\", sep=',')\n",
    "df.head()"
   ]
  },
  {
   "cell_type": "code",
   "execution_count": null,
   "id": "ef6d95a2",
   "metadata": {},
   "outputs": [],
   "source": [
    "df['Species'].unique()"
   ]
  },
  {
   "cell_type": "markdown",
   "id": "393ca1b7",
   "metadata": {},
   "source": [
    "### 1. Relacionamento entre as variáveis 'Comprimento da sépala' e 'Comprimento da pétala' para cada espécie."
   ]
  },
  {
   "cell_type": "code",
   "execution_count": null,
   "id": "3c843ae8",
   "metadata": {},
   "outputs": [],
   "source": [
    "# Define os dados\n",
    "sepalLengthCm_setosa = df.iloc[0:50, 1].values\n",
    "petalLengthCm_setosa = df.iloc[0:50, 3].values\n",
    "\n",
    "sepalLengthCm_versicolor = df.iloc[50:100, 1].values\n",
    "petalLengthCm_versicolor = df.iloc[50:100, 3].values\n",
    "\n",
    "sepalLengthCm_virginica = df.iloc[100:150, 1].values\n",
    "petalLengthCm_virginica = df.iloc[100:150, 3].values"
   ]
  },
  {
   "cell_type": "code",
   "execution_count": null,
   "id": "86791bb5",
   "metadata": {},
   "outputs": [],
   "source": [
    "sepalLengthCm_setosa"
   ]
  },
  {
   "cell_type": "code",
   "execution_count": null,
   "id": "e7b95b3d",
   "metadata": {
    "scrolled": true
   },
   "outputs": [],
   "source": [
    "# Cria uma figura com tamanho 7x4\n",
    "fig, ax = plt.subplots(figsize=(7, 4))\n",
    "\n",
    "# Cria um gráfico de dispersão\n",
    "ax.scatter(sepalLengthCm_setosa, petalLengthCm_setosa, label='Iris-setosa', color='blue')\n",
    "ax.scatter(sepalLengthCm_versicolor, petalLengthCm_versicolor, label='Iris-versicolor', color='orange')\n",
    "ax.scatter(sepalLengthCm_virginica, petalLengthCm_virginica, label='Iris-virginica', color='green')\n",
    "\n",
    "# Adicionar um título ao gráfico\n",
    "ax.set_title(\"Comprimento da sépala x Comprimento da pétala\")\n",
    "\n",
    "# Adicionar os labels do gráfico\n",
    "ax.set_xlabel('Sepal Length [Cm]')\n",
    "ax.set_ylabel('Petal Length [Cm]')\n",
    "\n",
    "# Exibir legenda\n",
    "plt.legend()\n",
    "\n",
    "# Exibir Figura\n",
    "plt.show()"
   ]
  },
  {
   "cell_type": "code",
   "execution_count": null,
   "id": "da83f3f0",
   "metadata": {},
   "outputs": [],
   "source": [
    "# Scatter plot\n",
    "ax = sns.scatterplot(data=df, x='SepalLengthCm', y='PetalLengthCm', hue='Species', palette=\"flare\")\n",
    "ax.set_title(\"Comprimento da sépala x Comprimento da pétala\")"
   ]
  },
  {
   "cell_type": "markdown",
   "id": "bd046275",
   "metadata": {},
   "source": [
    "### 2. Mapa de Calor para representar a correação entre as variáveis numéricas no conjunto de dados.\n",
    "\n",
    "> **Coeficiente de Correlação de Pearson**: Também chamado de correlação linear, é um grau de relação entre duas variáveis quantitativas.\n",
    "\n",
    "- **Correlação positiva**: Coeficiente de correlação se aproxima de 1. Nota-se um aumento no valor de uma variável quando a outra também aumenta. \n",
    "- **Correlação negativa**: Coeficiente de correlação se aproxima de -1. Quando o valor de uma variável aumenta o da outra diminui.\n"
   ]
  },
  {
   "cell_type": "code",
   "execution_count": null,
   "id": "93c40b38",
   "metadata": {},
   "outputs": [],
   "source": [
    "sns.heatmap(df.corr(method='pearson').drop(['Id'], axis=1).drop(['Id'], axis=0), annot = True);\n",
    "plt.show()"
   ]
  },
  {
   "cell_type": "markdown",
   "id": "b7a8a85e",
   "metadata": {},
   "source": [
    "- A largura da pétala e o comprimento da pétala têm altas correlações. \n",
    "- O comprimento da pétala e a largura da sépala têm boas correlações.\n",
    "- A largura da pétala e o comprimento da sépala têm boas correlações."
   ]
  },
  {
   "cell_type": "markdown",
   "id": "4dae80a2",
   "metadata": {},
   "source": [
    "### 3. Boxplot para representação do comprimento das pétalas de cada espécie"
   ]
  },
  {
   "cell_type": "code",
   "execution_count": null,
   "id": "ef56e50b",
   "metadata": {},
   "outputs": [],
   "source": [
    "# Cria uma figura com tamanho 10x5\n",
    "fig, ax = plt.subplots(figsize=(7, 4))\n",
    "\n",
    "# Cria um boxplot\n",
    "ax.boxplot([sepalLengthCm_setosa, sepalLengthCm_versicolor, sepalLengthCm_virginica])\n",
    "plt.xticks([1, 2, 3],  ['Iris-setosa','Iris-versicolor', 'Iris-virginica'])\n",
    "\n",
    "# Adicionar um título ao gráfico\n",
    "ax.set_title(\"Distribuição Petal Length [Cm]\")\n",
    "\n",
    "# Adicionar os labels do gráfico\n",
    "ax.set_xlabel('Species')\n",
    "ax.set_ylabel('Petal Length [Cm]')\n",
    "\n",
    "3# Exibir Figura\n",
    "plt.show()"
   ]
  },
  {
   "cell_type": "code",
   "execution_count": null,
   "id": "f9e84b48",
   "metadata": {},
   "outputs": [],
   "source": [
    "#fig=plt.gcf()\n",
    "#fig.set_size_inches(10,7)\n",
    "#fig=sns.boxenplot(x='Species',y='SepalLengthCm',data=df)\n",
    "\n",
    "sns.boxplot(data=df, x=\"Species\", y=\"SepalLengthCm\", palette=\"husl\")"
   ]
  },
  {
   "cell_type": "markdown",
   "id": "0cdbe931",
   "metadata": {},
   "source": [
    "### 3. Distribuição de frequências para cada característica"
   ]
  },
  {
   "cell_type": "code",
   "execution_count": null,
   "id": "a7f4038f",
   "metadata": {},
   "outputs": [],
   "source": [
    "# Ajustando o gráfico\n",
    "fig, axs = plt.subplots(nrows=4, ncols=2, figsize=(18,18))\n",
    "fig.suptitle('Histograma', size=30)\n",
    "\n",
    "# SepalLengthCm\n",
    "axs[0][0].hist(df['SepalLengthCm'], bins=10, density=True)\n",
    "axs[0][0].set_title(\"SepalLengthCm\")\n",
    "sns.histplot(ax=axs[0, 1], data=df, x='SepalLengthCm', kde=True, bins=10)\n",
    "\n",
    "# SepalWidthCm\n",
    "axs[1][0].hist(df['SepalWidthCm'], bins=10)\n",
    "axs[1][0].set_title(\"SepalWidthCm\")\n",
    "sns.histplot(ax=axs[1, 1], data=df, x='SepalWidthCm', kde=True)\n",
    "\n",
    "# PetalLengthCm\n",
    "axs[2][0].hist(df['PetalLengthCm'], bins=10)\n",
    "axs[2][0].set_title(\"PetalLengthCm\")\n",
    "sns.histplot(ax=axs[2, 1], data=df, x='PetalLengthCm', kde=True)\n",
    "\n",
    "# PetalWidthCm\n",
    "axs[3][0].hist(df['PetalWidthCm'], bins=10)\n",
    "axs[3][0].set_title(\"PetalWidthCm\")\n",
    "sns.histplot(ax=axs[3, 1], data=df, x='PetalWidthCm', kde=True)"
   ]
  }
 ],
 "metadata": {
  "kernelspec": {
   "display_name": "Python 3 (ipykernel)",
   "language": "python",
   "name": "python3"
  },
  "language_info": {
   "codemirror_mode": {
    "name": "ipython",
    "version": 3
   },
   "file_extension": ".py",
   "mimetype": "text/x-python",
   "name": "python",
   "nbconvert_exporter": "python",
   "pygments_lexer": "ipython3",
   "version": "3.9.12"
  }
 },
 "nbformat": 4,
 "nbformat_minor": 5
}
