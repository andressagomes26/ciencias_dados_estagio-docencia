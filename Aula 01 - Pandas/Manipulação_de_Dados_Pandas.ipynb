{
 "cells": [
  {
   "cell_type": "markdown",
   "id": "d1916364",
   "metadata": {},
   "source": [
    "# <font color = #119fbf> **Manipulação de Dados com Pandas**</font>\n",
    "\n",
    "* Programa de Pós-Graduação em Engenharia Elétrica e de Computação (PPGEEC)\n",
    "* Introdução à Ciências de Dados - UFC Campus Sobral – 2023.1\n",
    "* Andressa Gomes Moreira"
   ]
  },
  {
   "cell_type": "markdown",
   "id": "3e9860d7",
   "metadata": {},
   "source": [
    "## Instalação"
   ]
  },
  {
   "cell_type": "code",
   "execution_count": 1,
   "id": "2f9eda1a",
   "metadata": {},
   "outputs": [],
   "source": [
    "#!pip install pandas"
   ]
  },
  {
   "cell_type": "code",
   "execution_count": 2,
   "id": "aa090ee5",
   "metadata": {},
   "outputs": [
    {
     "data": {
      "text/plain": [
       "'1.5.3'"
      ]
     },
     "execution_count": 2,
     "metadata": {},
     "output_type": "execute_result"
    }
   ],
   "source": [
    "import pandas as pd\n",
    "import numpy as np\n",
    "import seaborn as sns\n",
    "import matplotlib.pyplot as plt\n",
    "\n",
    "pd.__version__"
   ]
  },
  {
   "cell_type": "markdown",
   "id": "6a483b10",
   "metadata": {},
   "source": [
    "## Estruturas de Dados"
   ]
  },
  {
   "cell_type": "markdown",
   "id": "9daa7986",
   "metadata": {},
   "source": [
    "### Series\n",
    "\n",
    "- Matriz rotulada unidimensional capaz de conter qualquer tipo de dados (inteiros, strings, ponto flutuante, objetos). \n",
    "\n",
    "- Pode ser criado a partir de uma lista ou array\n",
    "\n",
    "- O método para criar um Series: *```pd.Series()```*"
   ]
  },
  {
   "cell_type": "code",
   "execution_count": 3,
   "id": "5c245592",
   "metadata": {},
   "outputs": [
    {
     "data": {
      "text/plain": [
       "0    0.25\n",
       "1    0.50\n",
       "2    0.75\n",
       "3    1.00\n",
       "dtype: float64"
      ]
     },
     "execution_count": 3,
     "metadata": {},
     "output_type": "execute_result"
    }
   ],
   "source": [
    "data = pd.Series([0.25, 0.5, 0.75, 1.0])\n",
    "data"
   ]
  },
  {
   "cell_type": "markdown",
   "id": "05c2f8bb",
   "metadata": {},
   "source": [
    "* O *```Series```* envolve uma sequência de **valores** e uma sequência de **índices**\n",
    "\n",
    "* Podemos acessar os valores com o atributo *```values```* e os índices com o atributo *```index```* "
   ]
  },
  {
   "cell_type": "code",
   "execution_count": 4,
   "id": "bfbfa378",
   "metadata": {},
   "outputs": [
    {
     "data": {
      "text/plain": [
       "array([0.25, 0.5 , 0.75, 1.  ])"
      ]
     },
     "execution_count": 4,
     "metadata": {},
     "output_type": "execute_result"
    }
   ],
   "source": [
    "data.values"
   ]
  },
  {
   "cell_type": "code",
   "execution_count": 5,
   "id": "f0163ae6",
   "metadata": {},
   "outputs": [
    {
     "data": {
      "text/plain": [
       "RangeIndex(start=0, stop=4, step=1)"
      ]
     },
     "execution_count": 5,
     "metadata": {},
     "output_type": "execute_result"
    }
   ],
   "source": [
    "data.index"
   ]
  },
  {
   "cell_type": "markdown",
   "id": "d38b640e",
   "metadata": {},
   "source": [
    "* Como em uma array NumPy, os dados podem ser acessados pelo índice por meio da notação de colchetes"
   ]
  },
  {
   "cell_type": "code",
   "execution_count": 6,
   "id": "c46bd6cf",
   "metadata": {},
   "outputs": [
    {
     "data": {
      "text/plain": [
       "0.25"
      ]
     },
     "execution_count": 6,
     "metadata": {},
     "output_type": "execute_result"
    }
   ],
   "source": [
    "data[0]"
   ]
  },
  {
   "cell_type": "code",
   "execution_count": 7,
   "id": "d30813f8",
   "metadata": {},
   "outputs": [
    {
     "data": {
      "text/plain": [
       "1    0.50\n",
       "2    0.75\n",
       "dtype: float64"
      ]
     },
     "execution_count": 7,
     "metadata": {},
     "output_type": "execute_result"
    }
   ],
   "source": [
    "data[1:3]"
   ]
  },
  {
   "cell_type": "markdown",
   "id": "378a2e10",
   "metadata": {},
   "source": [
    "* O **índice** é definido explicitamente e não precisa ser um número inteiro, mas pode consistir em valores de qualquer tipo desejado. Por exemplo, podemos usar strings como índice:"
   ]
  },
  {
   "cell_type": "code",
   "execution_count": 8,
   "id": "e9ebfdac",
   "metadata": {},
   "outputs": [
    {
     "data": {
      "text/plain": [
       "Nome      Maria\n",
       "Idade        25\n",
       "Sexo          F\n",
       "Altura     1.65\n",
       "dtype: object"
      ]
     },
     "execution_count": 8,
     "metadata": {},
     "output_type": "execute_result"
    }
   ],
   "source": [
    "s = pd.Series([\"Maria\", 25, \"F\", 1.65], index=[\"Nome\", \"Idade\", \"Sexo\", \"Altura\"])\n",
    "s"
   ]
  },
  {
   "cell_type": "code",
   "execution_count": 9,
   "id": "5b242e2a",
   "metadata": {},
   "outputs": [
    {
     "data": {
      "text/plain": [
       "'Maria'"
      ]
     },
     "execution_count": 9,
     "metadata": {},
     "output_type": "execute_result"
    }
   ],
   "source": [
    "s['Nome']"
   ]
  },
  {
   "cell_type": "code",
   "execution_count": 10,
   "id": "284d64a4",
   "metadata": {},
   "outputs": [
    {
     "data": {
      "text/plain": [
       "Idade    25\n",
       "Sexo      F\n",
       "dtype: object"
      ]
     },
     "execution_count": 10,
     "metadata": {},
     "output_type": "execute_result"
    }
   ],
   "source": [
    "s['Idade':'Sexo']"
   ]
  },
  {
   "cell_type": "markdown",
   "id": "fbdedc0d",
   "metadata": {},
   "source": [
    "* É possível construir um *```Series```*  diretamente de um dicionário Python. \n",
    "\n",
    "* Um dicionário Python é uma estrutura que mapeia chaves para um conjunto de valores."
   ]
  },
  {
   "cell_type": "code",
   "execution_count": 11,
   "id": "ea972323",
   "metadata": {},
   "outputs": [],
   "source": [
    "area_dict = {'California': 423967, \n",
    "             'Texas': 695662, \n",
    "             'New York': 141297, \n",
    "             'Florida': 170312, \n",
    "             'Illinois': 149995}"
   ]
  },
  {
   "cell_type": "code",
   "execution_count": 12,
   "id": "3b5910e2",
   "metadata": {},
   "outputs": [
    {
     "data": {
      "text/plain": [
       "California    423967\n",
       "Texas         695662\n",
       "New York      141297\n",
       "Florida       170312\n",
       "Illinois      149995\n",
       "dtype: int64"
      ]
     },
     "execution_count": 12,
     "metadata": {},
     "output_type": "execute_result"
    }
   ],
   "source": [
    "area = pd.Series(area_dict)\n",
    "area"
   ]
  },
  {
   "cell_type": "code",
   "execution_count": 13,
   "id": "07db1e67",
   "metadata": {},
   "outputs": [
    {
     "data": {
      "text/plain": [
       "array([423967, 695662, 141297, 170312, 149995], dtype=int64)"
      ]
     },
     "execution_count": 13,
     "metadata": {},
     "output_type": "execute_result"
    }
   ],
   "source": [
    "area.values"
   ]
  },
  {
   "cell_type": "code",
   "execution_count": 14,
   "id": "23bf966f",
   "metadata": {},
   "outputs": [
    {
     "data": {
      "text/plain": [
       "Index(['California', 'Texas', 'New York', 'Florida', 'Illinois'], dtype='object')"
      ]
     },
     "execution_count": 14,
     "metadata": {},
     "output_type": "execute_result"
    }
   ],
   "source": [
    "area.index"
   ]
  },
  {
   "cell_type": "code",
   "execution_count": 15,
   "id": "b1f0e1cb",
   "metadata": {},
   "outputs": [
    {
     "data": {
      "text/plain": [
       "695662"
      ]
     },
     "execution_count": 15,
     "metadata": {},
     "output_type": "execute_result"
    }
   ],
   "source": [
    "area['Texas']"
   ]
  },
  {
   "cell_type": "markdown",
   "id": "d81e5b83",
   "metadata": {},
   "source": [
    "### DataFrame\n",
    "\n",
    "- Estrutura de dados rotulada bidimensional com colunas de tipos diferentes.\n",
    "- O método para criar um DataFrame: *```pd.DataFrame()```*\n",
    "- NaN é o marcador de dados ausentes padrão usado em pandas."
   ]
  },
  {
   "cell_type": "code",
   "execution_count": 16,
   "id": "b46b0bb3",
   "metadata": {},
   "outputs": [
    {
     "data": {
      "text/html": [
       "<div>\n",
       "<style scoped>\n",
       "    .dataframe tbody tr th:only-of-type {\n",
       "        vertical-align: middle;\n",
       "    }\n",
       "\n",
       "    .dataframe tbody tr th {\n",
       "        vertical-align: top;\n",
       "    }\n",
       "\n",
       "    .dataframe thead th {\n",
       "        text-align: right;\n",
       "    }\n",
       "</style>\n",
       "<table border=\"1\" class=\"dataframe\">\n",
       "  <thead>\n",
       "    <tr style=\"text-align: right;\">\n",
       "      <th></th>\n",
       "      <th>one</th>\n",
       "      <th>two</th>\n",
       "    </tr>\n",
       "  </thead>\n",
       "  <tbody>\n",
       "    <tr>\n",
       "      <th>a</th>\n",
       "      <td>1.0</td>\n",
       "      <td>1.0</td>\n",
       "    </tr>\n",
       "    <tr>\n",
       "      <th>b</th>\n",
       "      <td>2.0</td>\n",
       "      <td>2.0</td>\n",
       "    </tr>\n",
       "    <tr>\n",
       "      <th>c</th>\n",
       "      <td>3.0</td>\n",
       "      <td>3.0</td>\n",
       "    </tr>\n",
       "    <tr>\n",
       "      <th>d</th>\n",
       "      <td>NaN</td>\n",
       "      <td>4.0</td>\n",
       "    </tr>\n",
       "  </tbody>\n",
       "</table>\n",
       "</div>"
      ],
      "text/plain": [
       "   one  two\n",
       "a  1.0  1.0\n",
       "b  2.0  2.0\n",
       "c  3.0  3.0\n",
       "d  NaN  4.0"
      ]
     },
     "execution_count": 16,
     "metadata": {},
     "output_type": "execute_result"
    }
   ],
   "source": [
    "d = {\n",
    "    \"one\": pd.Series([1.0, 2.0, 3.0], index=[\"a\", \"b\", \"c\"]),\n",
    "    \"two\": pd.Series([1.0, 2.0, 3.0, 4.0], index=[\"a\", \"b\", \"c\", \"d\"]),\n",
    "}\n",
    "\n",
    "\n",
    "d1 = pd.DataFrame(d)\n",
    "d1"
   ]
  },
  {
   "cell_type": "markdown",
   "id": "b857accd",
   "metadata": {},
   "source": [
    "- *```Series```* é um análogo de uma matriz unidimensional com índices flexíveis;\n",
    "- *```DataFrame```* é um análogo de uma matriz bidimensional com índices e nomes de coluna flexíveis."
   ]
  },
  {
   "cell_type": "code",
   "execution_count": 17,
   "id": "a7834ee0",
   "metadata": {},
   "outputs": [
    {
     "data": {
      "text/plain": [
       "California    38332521\n",
       "Texas         26448193\n",
       "New York      19651127\n",
       "dtype: int64"
      ]
     },
     "execution_count": 17,
     "metadata": {},
     "output_type": "execute_result"
    }
   ],
   "source": [
    "population_dict = {'California': 38332521, 'Texas': 26448193, 'New York': 19651127}\n",
    "                   \n",
    "population = pd.Series(population_dict)\n",
    "population"
   ]
  },
  {
   "cell_type": "code",
   "execution_count": 18,
   "id": "978c58d8",
   "metadata": {},
   "outputs": [
    {
     "data": {
      "text/plain": [
       "California    423967\n",
       "Texas         695662\n",
       "New York      141297\n",
       "dtype: int64"
      ]
     },
     "execution_count": 18,
     "metadata": {},
     "output_type": "execute_result"
    }
   ],
   "source": [
    "area_dict = {'California': 423967, 'Texas': 695662, 'New York': 141297}\n",
    "\n",
    "area = pd.Series(area_dict)\n",
    "area"
   ]
  },
  {
   "cell_type": "code",
   "execution_count": 19,
   "id": "6f299c83",
   "metadata": {},
   "outputs": [
    {
     "data": {
      "text/html": [
       "<div>\n",
       "<style scoped>\n",
       "    .dataframe tbody tr th:only-of-type {\n",
       "        vertical-align: middle;\n",
       "    }\n",
       "\n",
       "    .dataframe tbody tr th {\n",
       "        vertical-align: top;\n",
       "    }\n",
       "\n",
       "    .dataframe thead th {\n",
       "        text-align: right;\n",
       "    }\n",
       "</style>\n",
       "<table border=\"1\" class=\"dataframe\">\n",
       "  <thead>\n",
       "    <tr style=\"text-align: right;\">\n",
       "      <th></th>\n",
       "      <th>population</th>\n",
       "      <th>area</th>\n",
       "    </tr>\n",
       "  </thead>\n",
       "  <tbody>\n",
       "    <tr>\n",
       "      <th>California</th>\n",
       "      <td>38332521</td>\n",
       "      <td>423967</td>\n",
       "    </tr>\n",
       "    <tr>\n",
       "      <th>Texas</th>\n",
       "      <td>26448193</td>\n",
       "      <td>695662</td>\n",
       "    </tr>\n",
       "    <tr>\n",
       "      <th>New York</th>\n",
       "      <td>19651127</td>\n",
       "      <td>141297</td>\n",
       "    </tr>\n",
       "  </tbody>\n",
       "</table>\n",
       "</div>"
      ],
      "text/plain": [
       "            population    area\n",
       "California    38332521  423967\n",
       "Texas         26448193  695662\n",
       "New York      19651127  141297"
      ]
     },
     "execution_count": 19,
     "metadata": {},
     "output_type": "execute_result"
    }
   ],
   "source": [
    "states = pd.DataFrame({'population': population, 'area': area})\n",
    "states"
   ]
  },
  {
   "cell_type": "markdown",
   "id": "4cd7cfa2",
   "metadata": {},
   "source": [
    "* *```DataFrame```* possui um atributos ```index``` e ```columns``` para dar acesso aos rótulos dos índices e das colunas"
   ]
  },
  {
   "cell_type": "code",
   "execution_count": 20,
   "id": "83a77cfb",
   "metadata": {},
   "outputs": [
    {
     "data": {
      "text/plain": [
       "Index(['California', 'Texas', 'New York'], dtype='object')"
      ]
     },
     "execution_count": 20,
     "metadata": {},
     "output_type": "execute_result"
    }
   ],
   "source": [
    "states.index"
   ]
  },
  {
   "cell_type": "code",
   "execution_count": 21,
   "id": "7312bd19",
   "metadata": {},
   "outputs": [
    {
     "data": {
      "text/plain": [
       "array([[38332521,   423967],\n",
       "       [26448193,   695662],\n",
       "       [19651127,   141297]], dtype=int64)"
      ]
     },
     "execution_count": 21,
     "metadata": {},
     "output_type": "execute_result"
    }
   ],
   "source": [
    "states.values"
   ]
  },
  {
   "cell_type": "code",
   "execution_count": 22,
   "id": "3ff5e8d0",
   "metadata": {},
   "outputs": [
    {
     "data": {
      "text/plain": [
       "Index(['population', 'area'], dtype='object')"
      ]
     },
     "execution_count": 22,
     "metadata": {},
     "output_type": "execute_result"
    }
   ],
   "source": [
    "states.columns"
   ]
  },
  {
   "cell_type": "markdown",
   "id": "ba442b56",
   "metadata": {},
   "source": [
    "Acessando valores pelo index"
   ]
  },
  {
   "cell_type": "code",
   "execution_count": 23,
   "id": "bbd793d6",
   "metadata": {},
   "outputs": [
    {
     "data": {
      "text/plain": [
       "California    423967\n",
       "Texas         695662\n",
       "New York      141297\n",
       "Name: area, dtype: int64"
      ]
     },
     "execution_count": 23,
     "metadata": {},
     "output_type": "execute_result"
    }
   ],
   "source": [
    "states['area']"
   ]
  },
  {
   "cell_type": "code",
   "execution_count": 24,
   "id": "3a617bcb",
   "metadata": {},
   "outputs": [
    {
     "data": {
      "text/plain": [
       "423967"
      ]
     },
     "execution_count": 24,
     "metadata": {},
     "output_type": "execute_result"
    }
   ],
   "source": [
    "states['area']['California']"
   ]
  },
  {
   "cell_type": "code",
   "execution_count": 25,
   "id": "cf4e9fbf",
   "metadata": {},
   "outputs": [],
   "source": [
    "#states['California']['area']"
   ]
  },
  {
   "cell_type": "code",
   "execution_count": 26,
   "id": "5ca6c19c",
   "metadata": {},
   "outputs": [
    {
     "data": {
      "text/html": [
       "<div>\n",
       "<style scoped>\n",
       "    .dataframe tbody tr th:only-of-type {\n",
       "        vertical-align: middle;\n",
       "    }\n",
       "\n",
       "    .dataframe tbody tr th {\n",
       "        vertical-align: top;\n",
       "    }\n",
       "\n",
       "    .dataframe thead th {\n",
       "        text-align: right;\n",
       "    }\n",
       "</style>\n",
       "<table border=\"1\" class=\"dataframe\">\n",
       "  <thead>\n",
       "    <tr style=\"text-align: right;\">\n",
       "      <th></th>\n",
       "      <th>population</th>\n",
       "      <th>area</th>\n",
       "    </tr>\n",
       "  </thead>\n",
       "  <tbody>\n",
       "    <tr>\n",
       "      <th>Texas</th>\n",
       "      <td>26448193</td>\n",
       "      <td>695662</td>\n",
       "    </tr>\n",
       "    <tr>\n",
       "      <th>New York</th>\n",
       "      <td>19651127</td>\n",
       "      <td>141297</td>\n",
       "    </tr>\n",
       "  </tbody>\n",
       "</table>\n",
       "</div>"
      ],
      "text/plain": [
       "          population    area\n",
       "Texas       26448193  695662\n",
       "New York    19651127  141297"
      ]
     },
     "execution_count": 26,
     "metadata": {},
     "output_type": "execute_result"
    }
   ],
   "source": [
    "states[1:3]"
   ]
  },
  {
   "cell_type": "markdown",
   "id": "b696ebcc",
   "metadata": {},
   "source": [
    "# Aplicação"
   ]
  },
  {
   "cell_type": "markdown",
   "id": "d97e08ca",
   "metadata": {},
   "source": [
    "### Análise de dados Google Play Store Apps\n",
    "\n",
    "> Link para download do dataset **[Google Play Store Apps](https://www.kaggle.com/datasets/lava18/google-play-store-apps)** \n",
    "\n",
    "O dataset possui dados extraídos de 10 mil aplicativos da Google Play Store para análise do mercado Android. O conjunto de dados (**googleplaystore.csv**) é composto por 10841 amostras e 13 atributos. Cada amostra refere-se a um aplicativo no Google Play Store. Existem 13 atributos que descrevem um determinado aplicativo. Os atributos listados na base de dados são:\n",
    "\n",
    "1. App - Nome do aplicativo \n",
    "2. Category\t- Categoria à qual o aplicativo pertence\n",
    "3. Rating\t- Classificação geral do usuário do aplicativo\n",
    "4. Reviews - Número de comentários do usuário para o aplicativo\n",
    "5. Size\t - Tamanho do aplicativo \n",
    "6. Installs\t- Número de downloads/instalações do usuário para o aplicativo\n",
    "7. Type\t- Tipo: Pago ou Gratuito\n",
    "8. Price - Preço do aplicativo\n",
    "9. Content Rating - Classificação do conteúdo - faixa etária: Crianças / Maiores de 21 anos / Adulto\n",
    "10. Genres - Gêneros\n",
    "11. Last Updated - Data em que o aplicativo foi atualizado pela última vez na Play Store\n",
    "12. Current Ver\t- Versão Atual do aplicativo disponível na Play Stor\n",
    "13. Android Ver - Versão mínima necessária do Android\n",
    "\n",
    "A partir da análise dos dados contidos no dataset alguns questionamentos podem ser feitos:\n",
    "\n",
    "1. Quais são as categorias de aplicativos mais instaladas pelos usuários?\n",
    "2. Quais aplicativos mais caros disponíveis na Play Store?\n",
    "3. Quantos aplicativos existem de cada gênero para as diferentes faixa etária?\n",
    "4. Qual a classificação dos aplicativos de acordo com o Tipo (pago ou gratuito)?\n",
    "5. Quais categorias de aplicativos possuem as melhores e as piores classificações?"
   ]
  },
  {
   "cell_type": "markdown",
   "id": "c662f743",
   "metadata": {},
   "source": [
    "#### Carregando o dataset"
   ]
  },
  {
   "cell_type": "code",
   "execution_count": 27,
   "id": "ec393a67",
   "metadata": {},
   "outputs": [],
   "source": [
    "df = pd.read_csv(\"googleplaystore.csv\", sep=',')"
   ]
  },
  {
   "cell_type": "markdown",
   "id": "c67c6d19",
   "metadata": {},
   "source": [
    "#### Informações Básicas"
   ]
  },
  {
   "cell_type": "markdown",
   "id": "1d418ebd",
   "metadata": {},
   "source": [
    "Formato (linhas, colunas) "
   ]
  },
  {
   "cell_type": "code",
   "execution_count": 28,
   "id": "3db8aa15",
   "metadata": {},
   "outputs": [
    {
     "data": {
      "text/plain": [
       "(10841, 13)"
      ]
     },
     "execution_count": 28,
     "metadata": {},
     "output_type": "execute_result"
    }
   ],
   "source": [
    "# Retorna uma tupla que representa a dimensionalidade do DataFrame\n",
    "df.shape"
   ]
  },
  {
   "cell_type": "code",
   "execution_count": 29,
   "id": "f77b0bdc",
   "metadata": {},
   "outputs": [
    {
     "name": "stdout",
     "output_type": "stream",
     "text": [
      "<class 'pandas.core.frame.DataFrame'>\n",
      "RangeIndex: 10841 entries, 0 to 10840\n",
      "Data columns (total 13 columns):\n",
      " #   Column          Non-Null Count  Dtype  \n",
      "---  ------          --------------  -----  \n",
      " 0   App             10841 non-null  object \n",
      " 1   Category        10841 non-null  object \n",
      " 2   Rating          9367 non-null   float64\n",
      " 3   Reviews         10841 non-null  object \n",
      " 4   Size            10841 non-null  object \n",
      " 5   Installs        10841 non-null  object \n",
      " 6   Type            10840 non-null  object \n",
      " 7   Price           10841 non-null  object \n",
      " 8   Content Rating  10840 non-null  object \n",
      " 9   Genres          10841 non-null  object \n",
      " 10  Last Updated    10841 non-null  object \n",
      " 11  Current Ver     10833 non-null  object \n",
      " 12  Android Ver     10838 non-null  object \n",
      "dtypes: float64(1), object(12)\n",
      "memory usage: 1.1+ MB\n"
     ]
    }
   ],
   "source": [
    "df.info()"
   ]
  },
  {
   "cell_type": "markdown",
   "id": "f1c6c6c8",
   "metadata": {},
   "source": [
    "Visualizar as cinco primeiras linhas do dataset"
   ]
  },
  {
   "cell_type": "code",
   "execution_count": 30,
   "id": "06f2f7a3",
   "metadata": {},
   "outputs": [
    {
     "data": {
      "text/html": [
       "<div>\n",
       "<style scoped>\n",
       "    .dataframe tbody tr th:only-of-type {\n",
       "        vertical-align: middle;\n",
       "    }\n",
       "\n",
       "    .dataframe tbody tr th {\n",
       "        vertical-align: top;\n",
       "    }\n",
       "\n",
       "    .dataframe thead th {\n",
       "        text-align: right;\n",
       "    }\n",
       "</style>\n",
       "<table border=\"1\" class=\"dataframe\">\n",
       "  <thead>\n",
       "    <tr style=\"text-align: right;\">\n",
       "      <th></th>\n",
       "      <th>App</th>\n",
       "      <th>Category</th>\n",
       "      <th>Rating</th>\n",
       "      <th>Reviews</th>\n",
       "      <th>Size</th>\n",
       "      <th>Installs</th>\n",
       "      <th>Type</th>\n",
       "      <th>Price</th>\n",
       "      <th>Content Rating</th>\n",
       "      <th>Genres</th>\n",
       "      <th>Last Updated</th>\n",
       "      <th>Current Ver</th>\n",
       "      <th>Android Ver</th>\n",
       "    </tr>\n",
       "  </thead>\n",
       "  <tbody>\n",
       "    <tr>\n",
       "      <th>0</th>\n",
       "      <td>Photo Editor &amp; Candy Camera &amp; Grid &amp; ScrapBook</td>\n",
       "      <td>ART_AND_DESIGN</td>\n",
       "      <td>4.1</td>\n",
       "      <td>159</td>\n",
       "      <td>19M</td>\n",
       "      <td>10,000+</td>\n",
       "      <td>Free</td>\n",
       "      <td>0</td>\n",
       "      <td>Everyone</td>\n",
       "      <td>Art &amp; Design</td>\n",
       "      <td>January 7, 2018</td>\n",
       "      <td>1.0.0</td>\n",
       "      <td>4.0.3 and up</td>\n",
       "    </tr>\n",
       "    <tr>\n",
       "      <th>1</th>\n",
       "      <td>Coloring book moana</td>\n",
       "      <td>ART_AND_DESIGN</td>\n",
       "      <td>3.9</td>\n",
       "      <td>967</td>\n",
       "      <td>14M</td>\n",
       "      <td>500,000+</td>\n",
       "      <td>Free</td>\n",
       "      <td>0</td>\n",
       "      <td>Everyone</td>\n",
       "      <td>Art &amp; Design;Pretend Play</td>\n",
       "      <td>January 15, 2018</td>\n",
       "      <td>2.0.0</td>\n",
       "      <td>4.0.3 and up</td>\n",
       "    </tr>\n",
       "    <tr>\n",
       "      <th>2</th>\n",
       "      <td>U Launcher Lite – FREE Live Cool Themes, Hide ...</td>\n",
       "      <td>ART_AND_DESIGN</td>\n",
       "      <td>4.7</td>\n",
       "      <td>87510</td>\n",
       "      <td>8.7M</td>\n",
       "      <td>5,000,000+</td>\n",
       "      <td>Free</td>\n",
       "      <td>0</td>\n",
       "      <td>Everyone</td>\n",
       "      <td>Art &amp; Design</td>\n",
       "      <td>August 1, 2018</td>\n",
       "      <td>1.2.4</td>\n",
       "      <td>4.0.3 and up</td>\n",
       "    </tr>\n",
       "    <tr>\n",
       "      <th>3</th>\n",
       "      <td>Sketch - Draw &amp; Paint</td>\n",
       "      <td>ART_AND_DESIGN</td>\n",
       "      <td>4.5</td>\n",
       "      <td>215644</td>\n",
       "      <td>25M</td>\n",
       "      <td>50,000,000+</td>\n",
       "      <td>Free</td>\n",
       "      <td>0</td>\n",
       "      <td>Teen</td>\n",
       "      <td>Art &amp; Design</td>\n",
       "      <td>June 8, 2018</td>\n",
       "      <td>Varies with device</td>\n",
       "      <td>4.2 and up</td>\n",
       "    </tr>\n",
       "    <tr>\n",
       "      <th>4</th>\n",
       "      <td>Pixel Draw - Number Art Coloring Book</td>\n",
       "      <td>ART_AND_DESIGN</td>\n",
       "      <td>4.3</td>\n",
       "      <td>967</td>\n",
       "      <td>2.8M</td>\n",
       "      <td>100,000+</td>\n",
       "      <td>Free</td>\n",
       "      <td>0</td>\n",
       "      <td>Everyone</td>\n",
       "      <td>Art &amp; Design;Creativity</td>\n",
       "      <td>June 20, 2018</td>\n",
       "      <td>1.1</td>\n",
       "      <td>4.4 and up</td>\n",
       "    </tr>\n",
       "  </tbody>\n",
       "</table>\n",
       "</div>"
      ],
      "text/plain": [
       "                                                 App        Category  Rating  \\\n",
       "0     Photo Editor & Candy Camera & Grid & ScrapBook  ART_AND_DESIGN     4.1   \n",
       "1                                Coloring book moana  ART_AND_DESIGN     3.9   \n",
       "2  U Launcher Lite – FREE Live Cool Themes, Hide ...  ART_AND_DESIGN     4.7   \n",
       "3                              Sketch - Draw & Paint  ART_AND_DESIGN     4.5   \n",
       "4              Pixel Draw - Number Art Coloring Book  ART_AND_DESIGN     4.3   \n",
       "\n",
       "  Reviews  Size     Installs  Type Price Content Rating  \\\n",
       "0     159   19M      10,000+  Free     0       Everyone   \n",
       "1     967   14M     500,000+  Free     0       Everyone   \n",
       "2   87510  8.7M   5,000,000+  Free     0       Everyone   \n",
       "3  215644   25M  50,000,000+  Free     0           Teen   \n",
       "4     967  2.8M     100,000+  Free     0       Everyone   \n",
       "\n",
       "                      Genres      Last Updated         Current Ver  \\\n",
       "0               Art & Design   January 7, 2018               1.0.0   \n",
       "1  Art & Design;Pretend Play  January 15, 2018               2.0.0   \n",
       "2               Art & Design    August 1, 2018               1.2.4   \n",
       "3               Art & Design      June 8, 2018  Varies with device   \n",
       "4    Art & Design;Creativity     June 20, 2018                 1.1   \n",
       "\n",
       "    Android Ver  \n",
       "0  4.0.3 and up  \n",
       "1  4.0.3 and up  \n",
       "2  4.0.3 and up  \n",
       "3    4.2 and up  \n",
       "4    4.4 and up  "
      ]
     },
     "execution_count": 30,
     "metadata": {},
     "output_type": "execute_result"
    }
   ],
   "source": [
    "df.head()"
   ]
  },
  {
   "cell_type": "markdown",
   "id": "2c856f77",
   "metadata": {},
   "source": [
    "Visualizar as cinco últimas linhas do dataset"
   ]
  },
  {
   "cell_type": "code",
   "execution_count": 31,
   "id": "60d9ae6d",
   "metadata": {},
   "outputs": [
    {
     "data": {
      "text/html": [
       "<div>\n",
       "<style scoped>\n",
       "    .dataframe tbody tr th:only-of-type {\n",
       "        vertical-align: middle;\n",
       "    }\n",
       "\n",
       "    .dataframe tbody tr th {\n",
       "        vertical-align: top;\n",
       "    }\n",
       "\n",
       "    .dataframe thead th {\n",
       "        text-align: right;\n",
       "    }\n",
       "</style>\n",
       "<table border=\"1\" class=\"dataframe\">\n",
       "  <thead>\n",
       "    <tr style=\"text-align: right;\">\n",
       "      <th></th>\n",
       "      <th>App</th>\n",
       "      <th>Category</th>\n",
       "      <th>Rating</th>\n",
       "      <th>Reviews</th>\n",
       "      <th>Size</th>\n",
       "      <th>Installs</th>\n",
       "      <th>Type</th>\n",
       "      <th>Price</th>\n",
       "      <th>Content Rating</th>\n",
       "      <th>Genres</th>\n",
       "      <th>Last Updated</th>\n",
       "      <th>Current Ver</th>\n",
       "      <th>Android Ver</th>\n",
       "    </tr>\n",
       "  </thead>\n",
       "  <tbody>\n",
       "    <tr>\n",
       "      <th>10836</th>\n",
       "      <td>Sya9a Maroc - FR</td>\n",
       "      <td>FAMILY</td>\n",
       "      <td>4.5</td>\n",
       "      <td>38</td>\n",
       "      <td>53M</td>\n",
       "      <td>5,000+</td>\n",
       "      <td>Free</td>\n",
       "      <td>0</td>\n",
       "      <td>Everyone</td>\n",
       "      <td>Education</td>\n",
       "      <td>July 25, 2017</td>\n",
       "      <td>1.48</td>\n",
       "      <td>4.1 and up</td>\n",
       "    </tr>\n",
       "    <tr>\n",
       "      <th>10837</th>\n",
       "      <td>Fr. Mike Schmitz Audio Teachings</td>\n",
       "      <td>FAMILY</td>\n",
       "      <td>5.0</td>\n",
       "      <td>4</td>\n",
       "      <td>3.6M</td>\n",
       "      <td>100+</td>\n",
       "      <td>Free</td>\n",
       "      <td>0</td>\n",
       "      <td>Everyone</td>\n",
       "      <td>Education</td>\n",
       "      <td>July 6, 2018</td>\n",
       "      <td>1.0</td>\n",
       "      <td>4.1 and up</td>\n",
       "    </tr>\n",
       "    <tr>\n",
       "      <th>10838</th>\n",
       "      <td>Parkinson Exercices FR</td>\n",
       "      <td>MEDICAL</td>\n",
       "      <td>NaN</td>\n",
       "      <td>3</td>\n",
       "      <td>9.5M</td>\n",
       "      <td>1,000+</td>\n",
       "      <td>Free</td>\n",
       "      <td>0</td>\n",
       "      <td>Everyone</td>\n",
       "      <td>Medical</td>\n",
       "      <td>January 20, 2017</td>\n",
       "      <td>1.0</td>\n",
       "      <td>2.2 and up</td>\n",
       "    </tr>\n",
       "    <tr>\n",
       "      <th>10839</th>\n",
       "      <td>The SCP Foundation DB fr nn5n</td>\n",
       "      <td>BOOKS_AND_REFERENCE</td>\n",
       "      <td>4.5</td>\n",
       "      <td>114</td>\n",
       "      <td>Varies with device</td>\n",
       "      <td>1,000+</td>\n",
       "      <td>Free</td>\n",
       "      <td>0</td>\n",
       "      <td>Mature 17+</td>\n",
       "      <td>Books &amp; Reference</td>\n",
       "      <td>January 19, 2015</td>\n",
       "      <td>Varies with device</td>\n",
       "      <td>Varies with device</td>\n",
       "    </tr>\n",
       "    <tr>\n",
       "      <th>10840</th>\n",
       "      <td>iHoroscope - 2018 Daily Horoscope &amp; Astrology</td>\n",
       "      <td>LIFESTYLE</td>\n",
       "      <td>4.5</td>\n",
       "      <td>398307</td>\n",
       "      <td>19M</td>\n",
       "      <td>10,000,000+</td>\n",
       "      <td>Free</td>\n",
       "      <td>0</td>\n",
       "      <td>Everyone</td>\n",
       "      <td>Lifestyle</td>\n",
       "      <td>July 25, 2018</td>\n",
       "      <td>Varies with device</td>\n",
       "      <td>Varies with device</td>\n",
       "    </tr>\n",
       "  </tbody>\n",
       "</table>\n",
       "</div>"
      ],
      "text/plain": [
       "                                                 App             Category  \\\n",
       "10836                               Sya9a Maroc - FR               FAMILY   \n",
       "10837               Fr. Mike Schmitz Audio Teachings               FAMILY   \n",
       "10838                         Parkinson Exercices FR              MEDICAL   \n",
       "10839                  The SCP Foundation DB fr nn5n  BOOKS_AND_REFERENCE   \n",
       "10840  iHoroscope - 2018 Daily Horoscope & Astrology            LIFESTYLE   \n",
       "\n",
       "       Rating Reviews                Size     Installs  Type Price  \\\n",
       "10836     4.5      38                 53M       5,000+  Free     0   \n",
       "10837     5.0       4                3.6M         100+  Free     0   \n",
       "10838     NaN       3                9.5M       1,000+  Free     0   \n",
       "10839     4.5     114  Varies with device       1,000+  Free     0   \n",
       "10840     4.5  398307                 19M  10,000,000+  Free     0   \n",
       "\n",
       "      Content Rating             Genres      Last Updated         Current Ver  \\\n",
       "10836       Everyone          Education     July 25, 2017                1.48   \n",
       "10837       Everyone          Education      July 6, 2018                 1.0   \n",
       "10838       Everyone            Medical  January 20, 2017                 1.0   \n",
       "10839     Mature 17+  Books & Reference  January 19, 2015  Varies with device   \n",
       "10840       Everyone          Lifestyle     July 25, 2018  Varies with device   \n",
       "\n",
       "              Android Ver  \n",
       "10836          4.1 and up  \n",
       "10837          4.1 and up  \n",
       "10838          2.2 and up  \n",
       "10839  Varies with device  \n",
       "10840  Varies with device  "
      ]
     },
     "execution_count": 31,
     "metadata": {},
     "output_type": "execute_result"
    }
   ],
   "source": [
    "df.tail()"
   ]
  },
  {
   "cell_type": "markdown",
   "id": "b1d37376",
   "metadata": {},
   "source": [
    "Informações estatísticas (média, desvio padrão, valores mínimo e máximo, etc)"
   ]
  },
  {
   "cell_type": "code",
   "execution_count": 32,
   "id": "8317e5d6",
   "metadata": {},
   "outputs": [
    {
     "data": {
      "text/html": [
       "<div>\n",
       "<style scoped>\n",
       "    .dataframe tbody tr th:only-of-type {\n",
       "        vertical-align: middle;\n",
       "    }\n",
       "\n",
       "    .dataframe tbody tr th {\n",
       "        vertical-align: top;\n",
       "    }\n",
       "\n",
       "    .dataframe thead th {\n",
       "        text-align: right;\n",
       "    }\n",
       "</style>\n",
       "<table border=\"1\" class=\"dataframe\">\n",
       "  <thead>\n",
       "    <tr style=\"text-align: right;\">\n",
       "      <th></th>\n",
       "      <th>Rating</th>\n",
       "    </tr>\n",
       "  </thead>\n",
       "  <tbody>\n",
       "    <tr>\n",
       "      <th>count</th>\n",
       "      <td>9367.000000</td>\n",
       "    </tr>\n",
       "    <tr>\n",
       "      <th>mean</th>\n",
       "      <td>4.193338</td>\n",
       "    </tr>\n",
       "    <tr>\n",
       "      <th>std</th>\n",
       "      <td>0.537431</td>\n",
       "    </tr>\n",
       "    <tr>\n",
       "      <th>min</th>\n",
       "      <td>1.000000</td>\n",
       "    </tr>\n",
       "    <tr>\n",
       "      <th>25%</th>\n",
       "      <td>4.000000</td>\n",
       "    </tr>\n",
       "    <tr>\n",
       "      <th>50%</th>\n",
       "      <td>4.300000</td>\n",
       "    </tr>\n",
       "    <tr>\n",
       "      <th>75%</th>\n",
       "      <td>4.500000</td>\n",
       "    </tr>\n",
       "    <tr>\n",
       "      <th>max</th>\n",
       "      <td>19.000000</td>\n",
       "    </tr>\n",
       "  </tbody>\n",
       "</table>\n",
       "</div>"
      ],
      "text/plain": [
       "            Rating\n",
       "count  9367.000000\n",
       "mean      4.193338\n",
       "std       0.537431\n",
       "min       1.000000\n",
       "25%       4.000000\n",
       "50%       4.300000\n",
       "75%       4.500000\n",
       "max      19.000000"
      ]
     },
     "execution_count": 32,
     "metadata": {},
     "output_type": "execute_result"
    }
   ],
   "source": [
    "df.describe()"
   ]
  },
  {
   "cell_type": "markdown",
   "id": "80aa4ef1",
   "metadata": {},
   "source": [
    "#### Selecionar Dados "
   ]
  },
  {
   "cell_type": "markdown",
   "id": "c5788eb1",
   "metadata": {},
   "source": [
    "Selecionando uma ou n colunas por índice "
   ]
  },
  {
   "cell_type": "code",
   "execution_count": 33,
   "id": "2d70f27d",
   "metadata": {},
   "outputs": [
    {
     "data": {
      "text/html": [
       "<div>\n",
       "<style scoped>\n",
       "    .dataframe tbody tr th:only-of-type {\n",
       "        vertical-align: middle;\n",
       "    }\n",
       "\n",
       "    .dataframe tbody tr th {\n",
       "        vertical-align: top;\n",
       "    }\n",
       "\n",
       "    .dataframe thead th {\n",
       "        text-align: right;\n",
       "    }\n",
       "</style>\n",
       "<table border=\"1\" class=\"dataframe\">\n",
       "  <thead>\n",
       "    <tr style=\"text-align: right;\">\n",
       "      <th></th>\n",
       "      <th>Genres</th>\n",
       "      <th>Category</th>\n",
       "    </tr>\n",
       "  </thead>\n",
       "  <tbody>\n",
       "    <tr>\n",
       "      <th>0</th>\n",
       "      <td>Art &amp; Design</td>\n",
       "      <td>ART_AND_DESIGN</td>\n",
       "    </tr>\n",
       "    <tr>\n",
       "      <th>1</th>\n",
       "      <td>Art &amp; Design;Pretend Play</td>\n",
       "      <td>ART_AND_DESIGN</td>\n",
       "    </tr>\n",
       "    <tr>\n",
       "      <th>2</th>\n",
       "      <td>Art &amp; Design</td>\n",
       "      <td>ART_AND_DESIGN</td>\n",
       "    </tr>\n",
       "    <tr>\n",
       "      <th>3</th>\n",
       "      <td>Art &amp; Design</td>\n",
       "      <td>ART_AND_DESIGN</td>\n",
       "    </tr>\n",
       "    <tr>\n",
       "      <th>4</th>\n",
       "      <td>Art &amp; Design;Creativity</td>\n",
       "      <td>ART_AND_DESIGN</td>\n",
       "    </tr>\n",
       "  </tbody>\n",
       "</table>\n",
       "</div>"
      ],
      "text/plain": [
       "                      Genres        Category\n",
       "0               Art & Design  ART_AND_DESIGN\n",
       "1  Art & Design;Pretend Play  ART_AND_DESIGN\n",
       "2               Art & Design  ART_AND_DESIGN\n",
       "3               Art & Design  ART_AND_DESIGN\n",
       "4    Art & Design;Creativity  ART_AND_DESIGN"
      ]
     },
     "execution_count": 33,
     "metadata": {},
     "output_type": "execute_result"
    }
   ],
   "source": [
    "df[['Genres', 'Category']].head()"
   ]
  },
  {
   "cell_type": "markdown",
   "id": "feda7705",
   "metadata": {},
   "source": [
    "Selecionando colunas usando notação de ponto"
   ]
  },
  {
   "cell_type": "code",
   "execution_count": 34,
   "id": "b1a4b07e",
   "metadata": {},
   "outputs": [
    {
     "data": {
      "text/plain": [
       "0    ART_AND_DESIGN\n",
       "1    ART_AND_DESIGN\n",
       "2    ART_AND_DESIGN\n",
       "3    ART_AND_DESIGN\n",
       "4    ART_AND_DESIGN\n",
       "Name: Category, dtype: object"
      ]
     },
     "execution_count": 34,
     "metadata": {},
     "output_type": "execute_result"
    }
   ],
   "source": [
    "df.Category.head()"
   ]
  },
  {
   "cell_type": "markdown",
   "id": "4897edf8",
   "metadata": {},
   "source": [
    "Verificando os valores presentes em uma coluna"
   ]
  },
  {
   "cell_type": "code",
   "execution_count": 35,
   "id": "93815d8c",
   "metadata": {},
   "outputs": [
    {
     "data": {
      "text/plain": [
       "array(['ART_AND_DESIGN', 'AUTO_AND_VEHICLES', 'BEAUTY',\n",
       "       'BOOKS_AND_REFERENCE', 'BUSINESS', 'COMICS', 'COMMUNICATION',\n",
       "       'DATING', 'EDUCATION', 'ENTERTAINMENT', 'EVENTS', 'FINANCE',\n",
       "       'FOOD_AND_DRINK', 'HEALTH_AND_FITNESS', 'HOUSE_AND_HOME',\n",
       "       'LIBRARIES_AND_DEMO', 'LIFESTYLE', 'GAME', 'FAMILY', 'MEDICAL',\n",
       "       'SOCIAL', 'SHOPPING', 'PHOTOGRAPHY', 'SPORTS', 'TRAVEL_AND_LOCAL',\n",
       "       'TOOLS', 'PERSONALIZATION', 'PRODUCTIVITY', 'PARENTING', 'WEATHER',\n",
       "       'VIDEO_PLAYERS', 'NEWS_AND_MAGAZINES', 'MAPS_AND_NAVIGATION',\n",
       "       '1.9'], dtype=object)"
      ]
     },
     "execution_count": 35,
     "metadata": {},
     "output_type": "execute_result"
    }
   ],
   "source": [
    "df['Category'].unique()"
   ]
  },
  {
   "cell_type": "code",
   "execution_count": 36,
   "id": "1b0661bd",
   "metadata": {},
   "outputs": [
    {
     "data": {
      "text/plain": [
       "array([ 4.1,  3.9,  4.7,  4.5,  4.3,  4.4,  3.8,  4.2,  4.6,  3.2,  4. ,\n",
       "        nan,  4.8,  4.9,  3.6,  3.7,  3.3,  3.4,  3.5,  3.1,  5. ,  2.6,\n",
       "        3. ,  1.9,  2.5,  2.8,  2.7,  1. ,  2.9,  2.3,  2.2,  1.7,  2. ,\n",
       "        1.8,  2.4,  1.6,  2.1,  1.4,  1.5,  1.2, 19. ])"
      ]
     },
     "execution_count": 36,
     "metadata": {},
     "output_type": "execute_result"
    }
   ],
   "source": [
    "df['Rating'].unique()"
   ]
  },
  {
   "cell_type": "markdown",
   "id": "cf49d7a9",
   "metadata": {},
   "source": [
    "#### Limpeza dos Dados"
   ]
  },
  {
   "cell_type": "markdown",
   "id": "8b121567",
   "metadata": {},
   "source": [
    "Atributos que possuem amostras com valores nulos"
   ]
  },
  {
   "cell_type": "code",
   "execution_count": 37,
   "id": "d26d9970",
   "metadata": {},
   "outputs": [
    {
     "data": {
      "text/plain": [
       "App                  0\n",
       "Category             0\n",
       "Rating            1474\n",
       "Reviews              0\n",
       "Size                 0\n",
       "Installs             0\n",
       "Type                 1\n",
       "Price                0\n",
       "Content Rating       1\n",
       "Genres               0\n",
       "Last Updated         0\n",
       "Current Ver          8\n",
       "Android Ver          3\n",
       "dtype: int64"
      ]
     },
     "execution_count": 37,
     "metadata": {},
     "output_type": "execute_result"
    }
   ],
   "source": [
    "df.isnull().sum()"
   ]
  },
  {
   "cell_type": "markdown",
   "id": "0c886aa7",
   "metadata": {},
   "source": [
    "Ordenar pelos valores ao longo de um dos eixos."
   ]
  },
  {
   "cell_type": "code",
   "execution_count": 38,
   "id": "9037d80d",
   "metadata": {},
   "outputs": [
    {
     "data": {
      "text/plain": [
       "Rating            1474\n",
       "Current Ver          8\n",
       "Android Ver          3\n",
       "Type                 1\n",
       "Content Rating       1\n",
       "dtype: int64"
      ]
     },
     "execution_count": 38,
     "metadata": {},
     "output_type": "execute_result"
    }
   ],
   "source": [
    "total = df.isnull().sum().sort_values(ascending=False)\n",
    "total.head()"
   ]
  },
  {
   "cell_type": "markdown",
   "id": "747e15ff",
   "metadata": {},
   "source": [
    "Porcentagem de valores Nulos"
   ]
  },
  {
   "cell_type": "code",
   "execution_count": 39,
   "id": "ca4147cd",
   "metadata": {},
   "outputs": [
    {
     "data": {
      "text/html": [
       "<div>\n",
       "<style scoped>\n",
       "    .dataframe tbody tr th:only-of-type {\n",
       "        vertical-align: middle;\n",
       "    }\n",
       "\n",
       "    .dataframe tbody tr th {\n",
       "        vertical-align: top;\n",
       "    }\n",
       "\n",
       "    .dataframe thead th {\n",
       "        text-align: right;\n",
       "    }\n",
       "</style>\n",
       "<table border=\"1\" class=\"dataframe\">\n",
       "  <thead>\n",
       "    <tr style=\"text-align: right;\">\n",
       "      <th></th>\n",
       "      <th>Total</th>\n",
       "      <th>Porcentagem</th>\n",
       "    </tr>\n",
       "  </thead>\n",
       "  <tbody>\n",
       "    <tr>\n",
       "      <th>Rating</th>\n",
       "      <td>1474</td>\n",
       "      <td>13.596532</td>\n",
       "    </tr>\n",
       "    <tr>\n",
       "      <th>Current Ver</th>\n",
       "      <td>8</td>\n",
       "      <td>0.073794</td>\n",
       "    </tr>\n",
       "    <tr>\n",
       "      <th>Android Ver</th>\n",
       "      <td>3</td>\n",
       "      <td>0.027673</td>\n",
       "    </tr>\n",
       "    <tr>\n",
       "      <th>Type</th>\n",
       "      <td>1</td>\n",
       "      <td>0.009224</td>\n",
       "    </tr>\n",
       "    <tr>\n",
       "      <th>Content Rating</th>\n",
       "      <td>1</td>\n",
       "      <td>0.009224</td>\n",
       "    </tr>\n",
       "  </tbody>\n",
       "</table>\n",
       "</div>"
      ],
      "text/plain": [
       "                Total  Porcentagem\n",
       "Rating           1474    13.596532\n",
       "Current Ver         8     0.073794\n",
       "Android Ver         3     0.027673\n",
       "Type                1     0.009224\n",
       "Content Rating      1     0.009224"
      ]
     },
     "execution_count": 39,
     "metadata": {},
     "output_type": "execute_result"
    }
   ],
   "source": [
    "porcent = ((df.isnull().sum()/df.shape[0])*100).sort_values(ascending=False)\n",
    "\n",
    "porcent_df = pd.DataFrame({'Total': total, 'Porcentagem': porcent})\n",
    "porcent_df.head()"
   ]
  },
  {
   "cell_type": "markdown",
   "id": "b4ab4761",
   "metadata": {},
   "source": [
    "Remover valores ausentes\n",
    "\n",
    "~~~python\n",
    "df.dropna(axis=0, how ='any', inplace = True)\n",
    "~~~\n",
    "\n",
    "- axis: \n",
    "\n",
    "    * 0 = 'Linhas': Descarte as linhas que contêm valores ausentes.\n",
    "    * 1 = 'Colunas': Descarte as colunas que contêm valores ausentes.\n",
    "\n",
    "- how:\n",
    "\n",
    "    * 'any' : Se algum valor NA estiver presente, elimine essa linha ou coluna.\n",
    "    * 'all' : Se todos os valores forem NA, elimine essa linha ou coluna.\n",
    "\n",
    "- inplace: \n",
    "    * Modificar o DataFrame em vez de criar um novo.\n"
   ]
  },
  {
   "cell_type": "code",
   "execution_count": 40,
   "id": "81765f31",
   "metadata": {},
   "outputs": [],
   "source": [
    "df.dropna(axis=0, how ='any', inplace = True)"
   ]
  },
  {
   "cell_type": "code",
   "execution_count": 41,
   "id": "22fe2151",
   "metadata": {},
   "outputs": [
    {
     "data": {
      "text/html": [
       "<div>\n",
       "<style scoped>\n",
       "    .dataframe tbody tr th:only-of-type {\n",
       "        vertical-align: middle;\n",
       "    }\n",
       "\n",
       "    .dataframe tbody tr th {\n",
       "        vertical-align: top;\n",
       "    }\n",
       "\n",
       "    .dataframe thead th {\n",
       "        text-align: right;\n",
       "    }\n",
       "</style>\n",
       "<table border=\"1\" class=\"dataframe\">\n",
       "  <thead>\n",
       "    <tr style=\"text-align: right;\">\n",
       "      <th></th>\n",
       "      <th>Total</th>\n",
       "      <th>Porcentagem</th>\n",
       "    </tr>\n",
       "  </thead>\n",
       "  <tbody>\n",
       "    <tr>\n",
       "      <th>App</th>\n",
       "      <td>0</td>\n",
       "      <td>0.0</td>\n",
       "    </tr>\n",
       "    <tr>\n",
       "      <th>Category</th>\n",
       "      <td>0</td>\n",
       "      <td>0.0</td>\n",
       "    </tr>\n",
       "    <tr>\n",
       "      <th>Rating</th>\n",
       "      <td>0</td>\n",
       "      <td>0.0</td>\n",
       "    </tr>\n",
       "    <tr>\n",
       "      <th>Reviews</th>\n",
       "      <td>0</td>\n",
       "      <td>0.0</td>\n",
       "    </tr>\n",
       "    <tr>\n",
       "      <th>Size</th>\n",
       "      <td>0</td>\n",
       "      <td>0.0</td>\n",
       "    </tr>\n",
       "  </tbody>\n",
       "</table>\n",
       "</div>"
      ],
      "text/plain": [
       "          Total  Porcentagem\n",
       "App           0          0.0\n",
       "Category      0          0.0\n",
       "Rating        0          0.0\n",
       "Reviews       0          0.0\n",
       "Size          0          0.0"
      ]
     },
     "execution_count": 41,
     "metadata": {},
     "output_type": "execute_result"
    }
   ],
   "source": [
    "total = df.isnull().sum().sort_values(ascending=False)\n",
    "porcent = ((df.isnull().sum()/df.shape[0])*100).sort_values(ascending=False)\n",
    "\n",
    "porcent_df = pd.DataFrame({'Total': total, 'Porcentagem': porcent})\n",
    "porcent_df.head()"
   ]
  },
  {
   "cell_type": "markdown",
   "id": "fb82806e",
   "metadata": {},
   "source": [
    "Verificar a dimensionalidade do DataFrame após a exclusão dos dados nulos"
   ]
  },
  {
   "cell_type": "code",
   "execution_count": 42,
   "id": "e74fb89f",
   "metadata": {},
   "outputs": [
    {
     "data": {
      "text/plain": [
       "(9360, 13)"
      ]
     },
     "execution_count": 42,
     "metadata": {},
     "output_type": "execute_result"
    }
   ],
   "source": [
    "df.shape"
   ]
  },
  {
   "cell_type": "markdown",
   "id": "30ba2baa",
   "metadata": {},
   "source": [
    "Removendo duplicados\n",
    "\n",
    "~~~python\n",
    "df.drop_duplicates(inplace = True)\n",
    "~~~"
   ]
  },
  {
   "cell_type": "code",
   "execution_count": 43,
   "id": "8b5aba2c",
   "metadata": {},
   "outputs": [
    {
     "data": {
      "text/plain": [
       "0        False\n",
       "1        False\n",
       "2        False\n",
       "3        False\n",
       "4        False\n",
       "         ...  \n",
       "10834     True\n",
       "10836     True\n",
       "10837     True\n",
       "10839     True\n",
       "10840     True\n",
       "Length: 9360, dtype: bool"
      ]
     },
     "execution_count": 43,
     "metadata": {},
     "output_type": "execute_result"
    }
   ],
   "source": [
    "df.duplicated(subset=['Rating'])"
   ]
  },
  {
   "cell_type": "code",
   "execution_count": 44,
   "id": "c53e60d3",
   "metadata": {},
   "outputs": [],
   "source": [
    "df.drop_duplicates(inplace = True)"
   ]
  },
  {
   "cell_type": "markdown",
   "id": "c1e1274b",
   "metadata": {},
   "source": [
    "Verificar a dimensionalidade do DataFrame após a exclusão dos dados duplicados"
   ]
  },
  {
   "cell_type": "code",
   "execution_count": 45,
   "id": "c2770297",
   "metadata": {},
   "outputs": [
    {
     "data": {
      "text/plain": [
       "(8886, 13)"
      ]
     },
     "execution_count": 45,
     "metadata": {},
     "output_type": "execute_result"
    }
   ],
   "source": [
    "df.shape"
   ]
  },
  {
   "cell_type": "markdown",
   "id": "66879fc3",
   "metadata": {},
   "source": [
    "## Podemos fazer alguns questionamentos:"
   ]
  },
  {
   "cell_type": "markdown",
   "id": "48a02c5a",
   "metadata": {},
   "source": [
    "### 1. Quais são as categorias de aplicativos mais instaladas pelos usuários?"
   ]
  },
  {
   "cell_type": "markdown",
   "id": "920019e6",
   "metadata": {},
   "source": [
    "**Installs** - Número de downloads/instalações do usuário para o aplicativo"
   ]
  },
  {
   "cell_type": "code",
   "execution_count": 46,
   "id": "e063927f",
   "metadata": {},
   "outputs": [
    {
     "data": {
      "text/plain": [
       "0            10,000+\n",
       "1           500,000+\n",
       "2         5,000,000+\n",
       "3        50,000,000+\n",
       "4           100,000+\n",
       "            ...     \n",
       "10834           500+\n",
       "10836         5,000+\n",
       "10837           100+\n",
       "10839         1,000+\n",
       "10840    10,000,000+\n",
       "Name: Installs, Length: 8886, dtype: object"
      ]
     },
     "execution_count": 46,
     "metadata": {},
     "output_type": "execute_result"
    }
   ],
   "source": [
    "df['Installs']"
   ]
  },
  {
   "cell_type": "code",
   "execution_count": 47,
   "id": "bc57b1ac",
   "metadata": {},
   "outputs": [
    {
     "data": {
      "text/plain": [
       "'10,000'"
      ]
     },
     "execution_count": 47,
     "metadata": {},
     "output_type": "execute_result"
    }
   ],
   "source": [
    "df['Installs'][0]\n",
    "df['Installs'][0].replace(\",\",\"\")\n",
    "df['Installs'][0].replace(\"+\",\"\")"
   ]
  },
  {
   "cell_type": "markdown",
   "id": "41727242",
   "metadata": {},
   "source": [
    "Limpeza nos dados da categoria Instalação"
   ]
  },
  {
   "cell_type": "code",
   "execution_count": 48,
   "id": "e0355b3a",
   "metadata": {},
   "outputs": [
    {
     "name": "stderr",
     "output_type": "stream",
     "text": [
      "C:\\Users\\andre\\AppData\\Local\\Temp\\ipykernel_8100\\899707373.py:2: FutureWarning: The default value of regex will change from True to False in a future version. In addition, single character regular expressions will *not* be treated as literal strings when regex=True.\n",
      "  df['Installs'] = df.Installs.str.replace(\"+\",\"\")\n"
     ]
    },
    {
     "data": {
      "text/plain": [
       "dtype('float64')"
      ]
     },
     "execution_count": 48,
     "metadata": {},
     "output_type": "execute_result"
    }
   ],
   "source": [
    "df['Installs'] = df.Installs.str.replace(\",\",\"\")\n",
    "df['Installs'] = df.Installs.str.replace(\"+\",\"\")\n",
    "df['Installs'] = df['Installs'].astype(float)\n",
    "df['Installs'].dtype"
   ]
  },
  {
   "cell_type": "code",
   "execution_count": 49,
   "id": "fef58ea5",
   "metadata": {},
   "outputs": [
    {
     "data": {
      "text/plain": [
       "0           10000.0\n",
       "1          500000.0\n",
       "2         5000000.0\n",
       "3        50000000.0\n",
       "4          100000.0\n",
       "            ...    \n",
       "10834         500.0\n",
       "10836        5000.0\n",
       "10837         100.0\n",
       "10839        1000.0\n",
       "10840    10000000.0\n",
       "Name: Installs, Length: 8886, dtype: float64"
      ]
     },
     "execution_count": 49,
     "metadata": {},
     "output_type": "execute_result"
    }
   ],
   "source": [
    "df['Installs']"
   ]
  },
  {
   "cell_type": "code",
   "execution_count": 50,
   "id": "b93ba25d",
   "metadata": {},
   "outputs": [
    {
     "data": {
      "text/html": [
       "<div>\n",
       "<style scoped>\n",
       "    .dataframe tbody tr th:only-of-type {\n",
       "        vertical-align: middle;\n",
       "    }\n",
       "\n",
       "    .dataframe tbody tr th {\n",
       "        vertical-align: top;\n",
       "    }\n",
       "\n",
       "    .dataframe thead th {\n",
       "        text-align: right;\n",
       "    }\n",
       "</style>\n",
       "<table border=\"1\" class=\"dataframe\">\n",
       "  <thead>\n",
       "    <tr style=\"text-align: right;\">\n",
       "      <th></th>\n",
       "      <th>category</th>\n",
       "      <th>install</th>\n",
       "    </tr>\n",
       "  </thead>\n",
       "  <tbody>\n",
       "    <tr>\n",
       "      <th>6</th>\n",
       "      <td>COMMUNICATION</td>\n",
       "      <td>7.867180e+07</td>\n",
       "    </tr>\n",
       "    <tr>\n",
       "      <th>20</th>\n",
       "      <td>SOCIAL</td>\n",
       "      <td>5.128624e+07</td>\n",
       "    </tr>\n",
       "    <tr>\n",
       "      <th>30</th>\n",
       "      <td>VIDEO_PLAYERS</td>\n",
       "      <td>3.888686e+07</td>\n",
       "    </tr>\n",
       "    <tr>\n",
       "      <th>27</th>\n",
       "      <td>PRODUCTIVITY</td>\n",
       "      <td>3.731458e+07</td>\n",
       "    </tr>\n",
       "    <tr>\n",
       "      <th>22</th>\n",
       "      <td>PHOTOGRAPHY</td>\n",
       "      <td>3.197777e+07</td>\n",
       "    </tr>\n",
       "    <tr>\n",
       "      <th>24</th>\n",
       "      <td>TRAVEL_AND_LOCAL</td>\n",
       "      <td>3.103346e+07</td>\n",
       "    </tr>\n",
       "    <tr>\n",
       "      <th>17</th>\n",
       "      <td>GAME</td>\n",
       "      <td>2.937045e+07</td>\n",
       "    </tr>\n",
       "    <tr>\n",
       "      <th>31</th>\n",
       "      <td>NEWS_AND_MAGAZINES</td>\n",
       "      <td>2.520145e+07</td>\n",
       "    </tr>\n",
       "    <tr>\n",
       "      <th>9</th>\n",
       "      <td>ENTERTAINMENT</td>\n",
       "      <td>2.212306e+07</td>\n",
       "    </tr>\n",
       "    <tr>\n",
       "      <th>25</th>\n",
       "      <td>TOOLS</td>\n",
       "      <td>1.562104e+07</td>\n",
       "    </tr>\n",
       "    <tr>\n",
       "      <th>21</th>\n",
       "      <td>SHOPPING</td>\n",
       "      <td>1.273927e+07</td>\n",
       "    </tr>\n",
       "    <tr>\n",
       "      <th>3</th>\n",
       "      <td>BOOKS_AND_REFERENCE</td>\n",
       "      <td>1.082651e+07</td>\n",
       "    </tr>\n",
       "    <tr>\n",
       "      <th>26</th>\n",
       "      <td>PERSONALIZATION</td>\n",
       "      <td>6.734876e+06</td>\n",
       "    </tr>\n",
       "    <tr>\n",
       "      <th>18</th>\n",
       "      <td>FAMILY</td>\n",
       "      <td>5.848038e+06</td>\n",
       "    </tr>\n",
       "    <tr>\n",
       "      <th>32</th>\n",
       "      <td>MAPS_AND_NAVIGATION</td>\n",
       "      <td>5.840867e+06</td>\n",
       "    </tr>\n",
       "    <tr>\n",
       "      <th>29</th>\n",
       "      <td>WEATHER</td>\n",
       "      <td>5.681287e+06</td>\n",
       "    </tr>\n",
       "    <tr>\n",
       "      <th>23</th>\n",
       "      <td>SPORTS</td>\n",
       "      <td>5.344516e+06</td>\n",
       "    </tr>\n",
       "    <tr>\n",
       "      <th>13</th>\n",
       "      <td>HEALTH_AND_FITNESS</td>\n",
       "      <td>5.194680e+06</td>\n",
       "    </tr>\n",
       "    <tr>\n",
       "      <th>8</th>\n",
       "      <td>EDUCATION</td>\n",
       "      <td>4.138388e+06</td>\n",
       "    </tr>\n",
       "    <tr>\n",
       "      <th>4</th>\n",
       "      <td>BUSINESS</td>\n",
       "      <td>3.198215e+06</td>\n",
       "    </tr>\n",
       "    <tr>\n",
       "      <th>12</th>\n",
       "      <td>FOOD_AND_DRINK</td>\n",
       "      <td>2.431866e+06</td>\n",
       "    </tr>\n",
       "    <tr>\n",
       "      <th>11</th>\n",
       "      <td>FINANCE</td>\n",
       "      <td>2.430008e+06</td>\n",
       "    </tr>\n",
       "    <tr>\n",
       "      <th>0</th>\n",
       "      <td>ART_AND_DESIGN</td>\n",
       "      <td>2.036526e+06</td>\n",
       "    </tr>\n",
       "    <tr>\n",
       "      <th>14</th>\n",
       "      <td>HOUSE_AND_HOME</td>\n",
       "      <td>1.839441e+06</td>\n",
       "    </tr>\n",
       "    <tr>\n",
       "      <th>16</th>\n",
       "      <td>LIFESTYLE</td>\n",
       "      <td>1.753250e+06</td>\n",
       "    </tr>\n",
       "    <tr>\n",
       "      <th>7</th>\n",
       "      <td>DATING</td>\n",
       "      <td>1.298883e+06</td>\n",
       "    </tr>\n",
       "    <tr>\n",
       "      <th>5</th>\n",
       "      <td>COMICS</td>\n",
       "      <td>9.661397e+05</td>\n",
       "    </tr>\n",
       "    <tr>\n",
       "      <th>15</th>\n",
       "      <td>LIBRARIES_AND_DEMO</td>\n",
       "      <td>9.544219e+05</td>\n",
       "    </tr>\n",
       "    <tr>\n",
       "      <th>1</th>\n",
       "      <td>AUTO_AND_VEHICLES</td>\n",
       "      <td>7.278055e+05</td>\n",
       "    </tr>\n",
       "    <tr>\n",
       "      <th>2</th>\n",
       "      <td>BEAUTY</td>\n",
       "      <td>6.408619e+05</td>\n",
       "    </tr>\n",
       "  </tbody>\n",
       "</table>\n",
       "</div>"
      ],
      "text/plain": [
       "               category       install\n",
       "6         COMMUNICATION  7.867180e+07\n",
       "20               SOCIAL  5.128624e+07\n",
       "30        VIDEO_PLAYERS  3.888686e+07\n",
       "27         PRODUCTIVITY  3.731458e+07\n",
       "22          PHOTOGRAPHY  3.197777e+07\n",
       "24     TRAVEL_AND_LOCAL  3.103346e+07\n",
       "17                 GAME  2.937045e+07\n",
       "31   NEWS_AND_MAGAZINES  2.520145e+07\n",
       "9         ENTERTAINMENT  2.212306e+07\n",
       "25                TOOLS  1.562104e+07\n",
       "21             SHOPPING  1.273927e+07\n",
       "3   BOOKS_AND_REFERENCE  1.082651e+07\n",
       "26      PERSONALIZATION  6.734876e+06\n",
       "18               FAMILY  5.848038e+06\n",
       "32  MAPS_AND_NAVIGATION  5.840867e+06\n",
       "29              WEATHER  5.681287e+06\n",
       "23               SPORTS  5.344516e+06\n",
       "13   HEALTH_AND_FITNESS  5.194680e+06\n",
       "8             EDUCATION  4.138388e+06\n",
       "4              BUSINESS  3.198215e+06\n",
       "12       FOOD_AND_DRINK  2.431866e+06\n",
       "11              FINANCE  2.430008e+06\n",
       "0        ART_AND_DESIGN  2.036526e+06\n",
       "14       HOUSE_AND_HOME  1.839441e+06\n",
       "16            LIFESTYLE  1.753250e+06\n",
       "7                DATING  1.298883e+06\n",
       "5                COMICS  9.661397e+05\n",
       "15   LIBRARIES_AND_DEMO  9.544219e+05\n",
       "1     AUTO_AND_VEHICLES  7.278055e+05\n",
       "2                BEAUTY  6.408619e+05"
      ]
     },
     "execution_count": 50,
     "metadata": {},
     "output_type": "execute_result"
    }
   ],
   "source": [
    "category_list = list(df['Category'].unique())\n",
    "category_install = []\n",
    "\n",
    "for i in category_list:\n",
    "    x = df[df['Category'] == i]\n",
    "    if(len(x)!=0):\n",
    "        install = sum(x.Installs)/len(x)\n",
    "        category_install.append(install)\n",
    "    else:\n",
    "        install = sum(x.Installs)\n",
    "        category_install.append(install)\n",
    "        \n",
    "df_category = pd.DataFrame({'category': category_list,'install':category_install})\n",
    "df_category.sort_values(by=\"install\",ascending=False).head(30)"
   ]
  },
  {
   "cell_type": "code",
   "execution_count": 51,
   "id": "f237cdfd",
   "metadata": {},
   "outputs": [
    {
     "data": {
      "image/png": "[encoded data removed]",
      "text/plain": [
       "<Figure size 2000x300 with 1 Axes>"
      ]
     },
     "metadata": {},
     "output_type": "display_data"
    }
   ],
   "source": [
    "fig, ax = plt.subplots(figsize =(20,3))\n",
    "\n",
    "sns.barplot(x=\"category\", \n",
    "            y=\"install\", data=df_category, palette=\"flare\",\n",
    "            order = df_category.\n",
    "            sort_values('install', ascending = False).\n",
    "            category).set_title(\"Categorias de aplicativos mais instaladas pelos usuários\")\n",
    "\n",
    "plt.xlabel('\\n Categorias', fontsize = 10, fontweight = 'bold')\n",
    "plt.ylabel('Instalações', fontsize = 10, fontweight = 'bold')\n",
    "plt.xticks(rotation = 90)\n",
    "plt.show()"
   ]
  },
  {
   "cell_type": "markdown",
   "id": "d2194f3f",
   "metadata": {},
   "source": [
    "### 2. Quais são os aplicativos mais caros disponíveis na Play Store?"
   ]
  },
  {
   "cell_type": "markdown",
   "id": "e8395336",
   "metadata": {},
   "source": [
    "**Price** - Preço do aplicativo"
   ]
  },
  {
   "cell_type": "code",
   "execution_count": 52,
   "id": "6139ebd6",
   "metadata": {},
   "outputs": [
    {
     "data": {
      "text/plain": [
       "array(['0', '$4.99', '$3.99', '$6.99', '$7.99', '$5.99', '$2.99', '$3.49',\n",
       "       '$1.99', '$9.99', '$7.49', '$0.99', '$9.00', '$5.49', '$10.00',\n",
       "       '$24.99', '$11.99', '$79.99', '$16.99', '$14.99', '$29.99',\n",
       "       '$12.99', '$2.49', '$10.99', '$1.50', '$19.99', '$15.99', '$33.99',\n",
       "       '$39.99', '$3.95', '$4.49', '$1.70', '$8.99', '$1.49', '$3.88',\n",
       "       '$399.99', '$17.99', '$400.00', '$3.02', '$1.76', '$4.84', '$4.77',\n",
       "       '$1.61', '$2.50', '$1.59', '$6.49', '$1.29', '$299.99', '$379.99',\n",
       "       '$37.99', '$18.99', '$389.99', '$8.49', '$1.75', '$14.00', '$2.00',\n",
       "       '$3.08', '$2.59', '$19.40', '$3.90', '$4.59', '$15.46', '$3.04',\n",
       "       '$13.99', '$4.29', '$3.28', '$4.60', '$1.00', '$2.95', '$2.90',\n",
       "       '$1.97', '$2.56', '$1.20'], dtype=object)"
      ]
     },
     "execution_count": 52,
     "metadata": {},
     "output_type": "execute_result"
    }
   ],
   "source": [
    "df[\"Price\"].unique()"
   ]
  },
  {
   "cell_type": "markdown",
   "id": "a37a6d13",
   "metadata": {},
   "source": [
    "Limpeza e padronização dos valores do atributo \"Price\", aplicando uma função ao longo do eixo do DataFrame."
   ]
  },
  {
   "cell_type": "code",
   "execution_count": 53,
   "id": "f1e12450",
   "metadata": {},
   "outputs": [
    {
     "data": {
      "text/plain": [
       "array([  0.  ,   4.99,   3.99,   6.99,   7.99,   5.99,   2.99,   3.49,\n",
       "         1.99,   9.99,   7.49,   0.99,   9.  ,   5.49,  10.  ,  24.99,\n",
       "        11.99,  79.99,  16.99,  14.99,  29.99,  12.99,   2.49,  10.99,\n",
       "         1.5 ,  19.99,  15.99,  33.99,  39.99,   3.95,   4.49,   1.7 ,\n",
       "         8.99,   1.49,   3.88, 399.99,  17.99, 400.  ,   3.02,   1.76,\n",
       "         4.84,   4.77,   1.61,   2.5 ,   1.59,   6.49,   1.29, 299.99,\n",
       "       379.99,  37.99,  18.99, 389.99,   8.49,   1.75,  14.  ,   2.  ,\n",
       "         3.08,   2.59,  19.4 ,   3.9 ,   4.59,  15.46,   3.04,  13.99,\n",
       "         4.29,   3.28,   4.6 ,   1.  ,   2.95,   2.9 ,   1.97,   2.56,\n",
       "         1.2 ])"
      ]
     },
     "execution_count": 53,
     "metadata": {},
     "output_type": "execute_result"
    }
   ],
   "source": [
    "df.Price = df.Price.apply(lambda x: x.strip('$'))\n",
    "df.Price=pd.to_numeric(df.Price)\n",
    "df.Price.unique().astype(float)"
   ]
  },
  {
   "cell_type": "markdown",
   "id": "8cf658f2",
   "metadata": {},
   "source": [
    "Quanto custa o aplicativo mais caro de cada categoria?\n",
    "\n",
    "\n",
    "```df.groupby()``` - Agrupar o DataFrame usando um mapeador ou uma série de colunas.\n"
   ]
  },
  {
   "cell_type": "code",
   "execution_count": 54,
   "id": "6efdc2f6",
   "metadata": {
    "scrolled": true
   },
   "outputs": [
    {
     "data": {
      "text/plain": [
       "Category\n",
       "LIFESTYLE              400.00\n",
       "FINANCE                399.99\n",
       "FAMILY                 399.99\n",
       "MEDICAL                 79.99\n",
       "SPORTS                  29.99\n",
       "PHOTOGRAPHY             19.99\n",
       "BUSINESS                17.99\n",
       "GAME                    17.99\n",
       "TOOLS                   14.99\n",
       "MAPS_AND_NAVIGATION     11.99\n",
       "PERSONALIZATION          9.99\n",
       "TRAVEL_AND_LOCAL         8.99\n",
       "PRODUCTIVITY             8.99\n",
       "HEALTH_AND_FITNESS       7.99\n",
       "DATING                   7.99\n",
       "WEATHER                  6.99\n",
       "VIDEO_PLAYERS            5.99\n",
       "EDUCATION                5.99\n",
       "FOOD_AND_DRINK           4.99\n",
       "ENTERTAINMENT            4.99\n",
       "PARENTING                4.99\n",
       "COMMUNICATION            4.99\n",
       "BOOKS_AND_REFERENCE      4.60\n",
       "SHOPPING                 2.99\n",
       "NEWS_AND_MAGAZINES       2.99\n",
       "ART_AND_DESIGN           1.99\n",
       "AUTO_AND_VEHICLES        1.99\n",
       "SOCIAL                   0.99\n",
       "LIBRARIES_AND_DEMO       0.00\n",
       "EVENTS                   0.00\n",
       "COMICS                   0.00\n",
       "BEAUTY                   0.00\n",
       "HOUSE_AND_HOME           0.00\n",
       "Name: Price, dtype: float64"
      ]
     },
     "execution_count": 54,
     "metadata": {},
     "output_type": "execute_result"
    }
   ],
   "source": [
    "df.groupby([\"Category\"])[\"Price\"].max().head(200).sort_values(ascending=False)"
   ]
  },
  {
   "cell_type": "markdown",
   "id": "78b87341",
   "metadata": {},
   "source": [
    "Valores dos aplicativos mais caros"
   ]
  },
  {
   "cell_type": "code",
   "execution_count": 55,
   "id": "a339bd10",
   "metadata": {},
   "outputs": [
    {
     "data": {
      "text/html": [
       "<div>\n",
       "<style scoped>\n",
       "    .dataframe tbody tr th:only-of-type {\n",
       "        vertical-align: middle;\n",
       "    }\n",
       "\n",
       "    .dataframe tbody tr th {\n",
       "        vertical-align: top;\n",
       "    }\n",
       "\n",
       "    .dataframe thead th {\n",
       "        text-align: right;\n",
       "    }\n",
       "</style>\n",
       "<table border=\"1\" class=\"dataframe\">\n",
       "  <thead>\n",
       "    <tr style=\"text-align: right;\">\n",
       "      <th></th>\n",
       "      <th>Price</th>\n",
       "      <th>App</th>\n",
       "      <th>Category</th>\n",
       "    </tr>\n",
       "  </thead>\n",
       "  <tbody>\n",
       "    <tr>\n",
       "      <th>4367</th>\n",
       "      <td>400.00</td>\n",
       "      <td>I'm Rich - Trump Edition</td>\n",
       "      <td>LIFESTYLE</td>\n",
       "    </tr>\n",
       "    <tr>\n",
       "      <th>4362</th>\n",
       "      <td>399.99</td>\n",
       "      <td>💎 I'm rich</td>\n",
       "      <td>LIFESTYLE</td>\n",
       "    </tr>\n",
       "    <tr>\n",
       "      <th>5362</th>\n",
       "      <td>399.99</td>\n",
       "      <td>I Am Rich Pro</td>\n",
       "      <td>FAMILY</td>\n",
       "    </tr>\n",
       "    <tr>\n",
       "      <th>5359</th>\n",
       "      <td>399.99</td>\n",
       "      <td>I am rich(premium)</td>\n",
       "      <td>FINANCE</td>\n",
       "    </tr>\n",
       "    <tr>\n",
       "      <th>5358</th>\n",
       "      <td>399.99</td>\n",
       "      <td>I am Rich!</td>\n",
       "      <td>FINANCE</td>\n",
       "    </tr>\n",
       "    <tr>\n",
       "      <th>5356</th>\n",
       "      <td>399.99</td>\n",
       "      <td>I Am Rich Premium</td>\n",
       "      <td>FINANCE</td>\n",
       "    </tr>\n",
       "    <tr>\n",
       "      <th>5354</th>\n",
       "      <td>399.99</td>\n",
       "      <td>I am Rich Plus</td>\n",
       "      <td>FAMILY</td>\n",
       "    </tr>\n",
       "    <tr>\n",
       "      <th>5351</th>\n",
       "      <td>399.99</td>\n",
       "      <td>I am rich</td>\n",
       "      <td>LIFESTYLE</td>\n",
       "    </tr>\n",
       "    <tr>\n",
       "      <th>5369</th>\n",
       "      <td>399.99</td>\n",
       "      <td>I am Rich</td>\n",
       "      <td>FINANCE</td>\n",
       "    </tr>\n",
       "    <tr>\n",
       "      <th>5364</th>\n",
       "      <td>399.99</td>\n",
       "      <td>I am rich (Most expensive app)</td>\n",
       "      <td>FINANCE</td>\n",
       "    </tr>\n",
       "    <tr>\n",
       "      <th>4197</th>\n",
       "      <td>399.99</td>\n",
       "      <td>most expensive app (H)</td>\n",
       "      <td>FAMILY</td>\n",
       "    </tr>\n",
       "    <tr>\n",
       "      <th>5373</th>\n",
       "      <td>399.99</td>\n",
       "      <td>I AM RICH PRO PLUS</td>\n",
       "      <td>FINANCE</td>\n",
       "    </tr>\n",
       "    <tr>\n",
       "      <th>5366</th>\n",
       "      <td>389.99</td>\n",
       "      <td>I Am Rich</td>\n",
       "      <td>FAMILY</td>\n",
       "    </tr>\n",
       "    <tr>\n",
       "      <th>5357</th>\n",
       "      <td>379.99</td>\n",
       "      <td>I am extremely Rich</td>\n",
       "      <td>LIFESTYLE</td>\n",
       "    </tr>\n",
       "    <tr>\n",
       "      <th>5355</th>\n",
       "      <td>299.99</td>\n",
       "      <td>I am rich VIP</td>\n",
       "      <td>LIFESTYLE</td>\n",
       "    </tr>\n",
       "    <tr>\n",
       "      <th>2253</th>\n",
       "      <td>79.99</td>\n",
       "      <td>Vargo Anesthesia Mega App</td>\n",
       "      <td>MEDICAL</td>\n",
       "    </tr>\n",
       "    <tr>\n",
       "      <th>2414</th>\n",
       "      <td>39.99</td>\n",
       "      <td>LTC AS Legal</td>\n",
       "      <td>MEDICAL</td>\n",
       "    </tr>\n",
       "    <tr>\n",
       "      <th>5360</th>\n",
       "      <td>37.99</td>\n",
       "      <td>I am Rich Person</td>\n",
       "      <td>LIFESTYLE</td>\n",
       "    </tr>\n",
       "    <tr>\n",
       "      <th>2301</th>\n",
       "      <td>33.99</td>\n",
       "      <td>A Manual of Acupuncture</td>\n",
       "      <td>MEDICAL</td>\n",
       "    </tr>\n",
       "    <tr>\n",
       "      <th>3039</th>\n",
       "      <td>29.99</td>\n",
       "      <td>Golfshot Plus: Golf GPS</td>\n",
       "      <td>SPORTS</td>\n",
       "    </tr>\n",
       "    <tr>\n",
       "      <th>2298</th>\n",
       "      <td>29.99</td>\n",
       "      <td>PTA Content Master</td>\n",
       "      <td>MEDICAL</td>\n",
       "    </tr>\n",
       "    <tr>\n",
       "      <th>5489</th>\n",
       "      <td>29.99</td>\n",
       "      <td>AP Art History Flashcards</td>\n",
       "      <td>FAMILY</td>\n",
       "    </tr>\n",
       "    <tr>\n",
       "      <th>2266</th>\n",
       "      <td>29.99</td>\n",
       "      <td>EMT PASS</td>\n",
       "      <td>MEDICAL</td>\n",
       "    </tr>\n",
       "    <tr>\n",
       "      <th>2251</th>\n",
       "      <td>24.99</td>\n",
       "      <td>Human Anatomy Atlas 2018: Complete 3D Human Body</td>\n",
       "      <td>MEDICAL</td>\n",
       "    </tr>\n",
       "    <tr>\n",
       "      <th>2277</th>\n",
       "      <td>24.99</td>\n",
       "      <td>Muscle Premium - Human Anatomy, Kinesiology, B...</td>\n",
       "      <td>MEDICAL</td>\n",
       "    </tr>\n",
       "    <tr>\n",
       "      <th>9574</th>\n",
       "      <td>24.99</td>\n",
       "      <td>Human Anatomy Atlas 2018: Complete 3D Human Body</td>\n",
       "      <td>MEDICAL</td>\n",
       "    </tr>\n",
       "    <tr>\n",
       "      <th>5036</th>\n",
       "      <td>19.99</td>\n",
       "      <td>NewTek NDI</td>\n",
       "      <td>PHOTOGRAPHY</td>\n",
       "    </tr>\n",
       "    <tr>\n",
       "      <th>2297</th>\n",
       "      <td>19.99</td>\n",
       "      <td>Hospitalist Handbook</td>\n",
       "      <td>MEDICAL</td>\n",
       "    </tr>\n",
       "    <tr>\n",
       "      <th>7477</th>\n",
       "      <td>19.99</td>\n",
       "      <td>USMLE Step 2 CK Flashcards</td>\n",
       "      <td>FAMILY</td>\n",
       "    </tr>\n",
       "    <tr>\n",
       "      <th>8719</th>\n",
       "      <td>19.99</td>\n",
       "      <td>DRAGON QUEST VIII</td>\n",
       "      <td>FAMILY</td>\n",
       "    </tr>\n",
       "  </tbody>\n",
       "</table>\n",
       "</div>"
      ],
      "text/plain": [
       "       Price                                                App     Category\n",
       "4367  400.00                           I'm Rich - Trump Edition    LIFESTYLE\n",
       "4362  399.99                                         💎 I'm rich    LIFESTYLE\n",
       "5362  399.99                                      I Am Rich Pro       FAMILY\n",
       "5359  399.99                                 I am rich(premium)      FINANCE\n",
       "5358  399.99                                         I am Rich!      FINANCE\n",
       "5356  399.99                                  I Am Rich Premium      FINANCE\n",
       "5354  399.99                                     I am Rich Plus       FAMILY\n",
       "5351  399.99                                          I am rich    LIFESTYLE\n",
       "5369  399.99                                          I am Rich      FINANCE\n",
       "5364  399.99                     I am rich (Most expensive app)      FINANCE\n",
       "4197  399.99                             most expensive app (H)       FAMILY\n",
       "5373  399.99                                 I AM RICH PRO PLUS      FINANCE\n",
       "5366  389.99                                          I Am Rich       FAMILY\n",
       "5357  379.99                                I am extremely Rich    LIFESTYLE\n",
       "5355  299.99                                      I am rich VIP    LIFESTYLE\n",
       "2253   79.99                          Vargo Anesthesia Mega App      MEDICAL\n",
       "2414   39.99                                       LTC AS Legal      MEDICAL\n",
       "5360   37.99                                   I am Rich Person    LIFESTYLE\n",
       "2301   33.99                            A Manual of Acupuncture      MEDICAL\n",
       "3039   29.99                            Golfshot Plus: Golf GPS       SPORTS\n",
       "2298   29.99                                 PTA Content Master      MEDICAL\n",
       "5489   29.99                          AP Art History Flashcards       FAMILY\n",
       "2266   29.99                                           EMT PASS      MEDICAL\n",
       "2251   24.99   Human Anatomy Atlas 2018: Complete 3D Human Body      MEDICAL\n",
       "2277   24.99  Muscle Premium - Human Anatomy, Kinesiology, B...      MEDICAL\n",
       "9574   24.99   Human Anatomy Atlas 2018: Complete 3D Human Body      MEDICAL\n",
       "5036   19.99                                         NewTek NDI  PHOTOGRAPHY\n",
       "2297   19.99                               Hospitalist Handbook      MEDICAL\n",
       "7477   19.99                         USMLE Step 2 CK Flashcards       FAMILY\n",
       "8719   19.99                                  DRAGON QUEST VIII       FAMILY"
      ]
     },
     "execution_count": 55,
     "metadata": {},
     "output_type": "execute_result"
    }
   ],
   "source": [
    "datat = df[(df.Price >= 19.99)][[\"Price\", \"App\", \"Category\"]].sort_values(by='Price', ascending=False)\n",
    "datat"
   ]
  },
  {
   "cell_type": "code",
   "execution_count": 56,
   "id": "df946c95",
   "metadata": {},
   "outputs": [
    {
     "name": "stderr",
     "output_type": "stream",
     "text": [
      "C:\\Users\\andre\\anaconda3\\lib\\site-packages\\IPython\\core\\pylabtools.py:152: UserWarning: Glyph 128142 (\\N{GEM STONE}) missing from current font.\n",
      "  fig.canvas.print_figure(bytes_io, **kw)\n"
     ]
    },
    {
     "data": {
      "image/png": "[encoded data removed]",
      "text/plain": [
       "<Figure size 2200x500 with 1 Axes>"
      ]
     },
     "metadata": {},
     "output_type": "display_data"
    }
   ],
   "source": [
    "fig, ax = plt.subplots(figsize=(22,5))\n",
    "sns.barplot(x='App', y='Price', data=datat, palette='rocket').set_title(\"Preço dos aplicativos\")\n",
    "\n",
    "plt.xlabel('\\n Aplicativo', fontsize = 10, fontweight = 'bold')\n",
    "plt.ylabel('Preço', fontsize = 10, fontweight = 'bold')\n",
    "plt.xticks(rotation = 90)\n",
    "plt.show()"
   ]
  },
  {
   "cell_type": "markdown",
   "id": "aba7bfa1",
   "metadata": {},
   "source": [
    "### 3. Quantos aplicativos existem de cada gênero para as diferentes faixa etária?"
   ]
  },
  {
   "cell_type": "markdown",
   "id": "fa895c02",
   "metadata": {},
   "source": [
    "Verificando os gêneros existentes"
   ]
  },
  {
   "cell_type": "code",
   "execution_count": 57,
   "id": "d82c8ad1",
   "metadata": {
    "scrolled": true
   },
   "outputs": [
    {
     "data": {
      "text/plain": [
       "array(['Art & Design', 'Art & Design;Pretend Play',\n",
       "       'Art & Design;Creativity', 'Auto & Vehicles', 'Beauty',\n",
       "       'Books & Reference', 'Business', 'Comics', 'Comics;Creativity',\n",
       "       'Communication', 'Dating', 'Education;Education', 'Education',\n",
       "       'Education;Creativity', 'Education;Music & Video',\n",
       "       'Education;Action & Adventure', 'Education;Pretend Play',\n",
       "       'Education;Brain Games', 'Entertainment',\n",
       "       'Entertainment;Music & Video', 'Entertainment;Brain Games',\n",
       "       'Entertainment;Creativity', 'Events', 'Finance', 'Food & Drink',\n",
       "       'Health & Fitness', 'House & Home', 'Libraries & Demo',\n",
       "       'Lifestyle', 'Lifestyle;Pretend Play',\n",
       "       'Adventure;Action & Adventure', 'Arcade', 'Casual', 'Card',\n",
       "       'Casual;Pretend Play', 'Action', 'Strategy', 'Puzzle', 'Sports',\n",
       "       'Music', 'Word', 'Racing', 'Casual;Creativity',\n",
       "       'Casual;Action & Adventure', 'Simulation', 'Adventure', 'Board',\n",
       "       'Trivia', 'Role Playing', 'Simulation;Education',\n",
       "       'Action;Action & Adventure', 'Casual;Brain Games',\n",
       "       'Simulation;Action & Adventure', 'Educational;Creativity',\n",
       "       'Puzzle;Brain Games', 'Educational;Education', 'Card;Brain Games',\n",
       "       'Educational;Brain Games', 'Educational;Pretend Play',\n",
       "       'Entertainment;Education', 'Casual;Education',\n",
       "       'Music;Music & Video', 'Racing;Action & Adventure',\n",
       "       'Arcade;Pretend Play', 'Role Playing;Action & Adventure',\n",
       "       'Simulation;Pretend Play', 'Puzzle;Creativity',\n",
       "       'Sports;Action & Adventure', 'Educational;Action & Adventure',\n",
       "       'Arcade;Action & Adventure', 'Entertainment;Action & Adventure',\n",
       "       'Puzzle;Action & Adventure', 'Strategy;Action & Adventure',\n",
       "       'Music & Audio;Music & Video', 'Health & Fitness;Education',\n",
       "       'Adventure;Education', 'Board;Brain Games',\n",
       "       'Board;Action & Adventure', 'Board;Pretend Play',\n",
       "       'Casual;Music & Video', 'Role Playing;Pretend Play',\n",
       "       'Entertainment;Pretend Play', 'Video Players & Editors;Creativity',\n",
       "       'Card;Action & Adventure', 'Medical', 'Social', 'Shopping',\n",
       "       'Photography', 'Travel & Local',\n",
       "       'Travel & Local;Action & Adventure', 'Tools', 'Tools;Education',\n",
       "       'Personalization', 'Productivity', 'Parenting',\n",
       "       'Parenting;Music & Video', 'Parenting;Brain Games',\n",
       "       'Parenting;Education', 'Weather', 'Video Players & Editors',\n",
       "       'Video Players & Editors;Music & Video', 'News & Magazines',\n",
       "       'Maps & Navigation', 'Health & Fitness;Action & Adventure',\n",
       "       'Educational', 'Casino', 'Adventure;Brain Games',\n",
       "       'Lifestyle;Education', 'Books & Reference;Education',\n",
       "       'Puzzle;Education', 'Role Playing;Brain Games',\n",
       "       'Strategy;Education', 'Racing;Pretend Play',\n",
       "       'Communication;Creativity', 'Strategy;Creativity'], dtype=object)"
      ]
     },
     "execution_count": 57,
     "metadata": {},
     "output_type": "execute_result"
    }
   ],
   "source": [
    "generos = df['Genres'].unique()\n",
    "generos"
   ]
  },
  {
   "cell_type": "markdown",
   "id": "e73f4cd7",
   "metadata": {},
   "source": [
    "Verificando a quantidade de aplicativos existentes de acordo com a faixa etária"
   ]
  },
  {
   "cell_type": "code",
   "execution_count": 58,
   "id": "f7448510",
   "metadata": {},
   "outputs": [
    {
     "data": {
      "text/plain": [
       "Everyone           7089\n",
       "Teen               1022\n",
       "Mature 17+          411\n",
       "Everyone 10+        360\n",
       "Adults only 18+       3\n",
       "Unrated               1\n",
       "Name: Content Rating, dtype: int64"
      ]
     },
     "execution_count": 58,
     "metadata": {},
     "output_type": "execute_result"
    }
   ],
   "source": [
    "df['Content Rating'].value_counts()"
   ]
  },
  {
   "cell_type": "markdown",
   "id": "60bbf0eb",
   "metadata": {},
   "source": [
    "Verificando a quantidade de aplicativos existentes de acordo com o gênero e a faixa etária"
   ]
  },
  {
   "cell_type": "code",
   "execution_count": 59,
   "id": "b6b468dd",
   "metadata": {
    "scrolled": false
   },
   "outputs": [
    {
     "data": {
      "text/plain": [
       "Genres                     Content Rating\n",
       "Action                     Teen              158\n",
       "                           Everyone           92\n",
       "                           Mature 17+         50\n",
       "                           Everyone 10+       49\n",
       "Action;Action & Adventure  Everyone           10\n",
       "                                            ... \n",
       "Weather                    Mature 17+          1\n",
       "Word                       Everyone           23\n",
       "                           Mature 17+          2\n",
       "                           Everyone 10+        1\n",
       "                           Teen                1\n",
       "Name: Content Rating, Length: 239, dtype: int64"
      ]
     },
     "execution_count": 59,
     "metadata": {},
     "output_type": "execute_result"
    }
   ],
   "source": [
    "groupby_gen_rating = df.groupby([\"Genres\"])[\"Content Rating\"].value_counts()\n",
    "\n",
    "'''for genero in generos:\n",
    "    print(f'-- Gênero: {genero} --')\n",
    "    print(f'{groupby_gen_rating}\\n')'''\n",
    "\n",
    "groupby_gen_rating"
   ]
  },
  {
   "cell_type": "markdown",
   "id": "ac2c107b",
   "metadata": {},
   "source": [
    "### 4. Qual a Classificação dos Aplicativos de acordo com o Tipo (pago ou gratuito)?\n",
    "\n",
    "\n",
    "**Rating** - Classificação geral do usuário do aplicativo\n",
    "\n",
    "**Type** - Tipo: Pago ou Gratuito"
   ]
  },
  {
   "cell_type": "markdown",
   "id": "6920a8c2",
   "metadata": {},
   "source": [
    "Quantidade de apps de acordo com a avaliação"
   ]
  },
  {
   "cell_type": "code",
   "execution_count": 60,
   "id": "79dc06f3",
   "metadata": {},
   "outputs": [
    {
     "data": {
      "text/plain": [
       "array([4.1, 3.9, 4.7, 4.5, 4.3, 4.4, 3.8, 4.2, 4.6, 4. , 4.8, 4.9, 3.6,\n",
       "       3.7, 3.2, 3.3, 3.4, 3.5, 3.1, 5. , 2.6, 3. , 1.9, 2.5, 2.8, 2.7,\n",
       "       1. , 2.9, 2.3, 2.2, 1.7, 2. , 1.8, 2.4, 1.6, 2.1, 1.4, 1.5, 1.2])"
      ]
     },
     "execution_count": 60,
     "metadata": {},
     "output_type": "execute_result"
    }
   ],
   "source": [
    "df['Rating'].unique()"
   ]
  },
  {
   "cell_type": "code",
   "execution_count": 61,
   "id": "80c615a5",
   "metadata": {},
   "outputs": [
    {
     "data": {
      "text/plain": [
       "4.4    1031\n",
       "4.3    1016\n",
       "4.5     976\n",
       "4.2     887\n",
       "4.6     768\n",
       "4.1     656\n",
       "4.0     538\n",
       "4.7     484\n",
       "3.9     372\n",
       "3.8     293\n",
       "5.0     271\n",
       "3.7     231\n",
       "4.8     228\n",
       "3.6     169\n",
       "3.5     157\n",
       "3.4     127\n",
       "3.3     101\n",
       "4.9      87\n",
       "3.0      82\n",
       "3.1      69\n",
       "3.2      63\n",
       "2.9      45\n",
       "2.8      40\n",
       "2.6      24\n",
       "2.7      23\n",
       "2.5      20\n",
       "2.3      20\n",
       "2.4      19\n",
       "1.0      16\n",
       "2.2      14\n",
       "1.9      12\n",
       "2.0      12\n",
       "1.7       8\n",
       "1.8       8\n",
       "2.1       8\n",
       "1.6       4\n",
       "1.4       3\n",
       "1.5       3\n",
       "1.2       1\n",
       "Name: Rating, dtype: int64"
      ]
     },
     "execution_count": 61,
     "metadata": {},
     "output_type": "execute_result"
    }
   ],
   "source": [
    "df['Rating'].value_counts()"
   ]
  },
  {
   "cell_type": "markdown",
   "id": "801a6c76",
   "metadata": {},
   "source": [
    "Quantidade de apps de acordo com o tipo"
   ]
  },
  {
   "cell_type": "code",
   "execution_count": 62,
   "id": "04f3c126",
   "metadata": {},
   "outputs": [
    {
     "data": {
      "text/plain": [
       "Free    8275\n",
       "Paid     611\n",
       "Name: Type, dtype: int64"
      ]
     },
     "execution_count": 62,
     "metadata": {},
     "output_type": "execute_result"
    }
   ],
   "source": [
    "df.Type.value_counts()"
   ]
  },
  {
   "cell_type": "markdown",
   "id": "17c338cb",
   "metadata": {},
   "source": [
    "Média das notas (avaliação) recebida por cada tipo "
   ]
  },
  {
   "cell_type": "code",
   "execution_count": 63,
   "id": "bf228e4c",
   "metadata": {},
   "outputs": [
    {
     "data": {
      "text/plain": [
       "Type\n",
       "Free    4.182514\n",
       "Paid    4.261702\n",
       "Name: Rating, dtype: float64"
      ]
     },
     "execution_count": 63,
     "metadata": {},
     "output_type": "execute_result"
    }
   ],
   "source": [
    "df.groupby([\"Type\"])[\"Rating\"].mean()"
   ]
  },
  {
   "cell_type": "code",
   "execution_count": 64,
   "id": "4695f58f",
   "metadata": {},
   "outputs": [
    {
     "data": {
      "text/html": [
       "<div>\n",
       "<style scoped>\n",
       "    .dataframe tbody tr th:only-of-type {\n",
       "        vertical-align: middle;\n",
       "    }\n",
       "\n",
       "    .dataframe tbody tr th {\n",
       "        vertical-align: top;\n",
       "    }\n",
       "\n",
       "    .dataframe thead th {\n",
       "        text-align: right;\n",
       "    }\n",
       "</style>\n",
       "<table border=\"1\" class=\"dataframe\">\n",
       "  <thead>\n",
       "    <tr style=\"text-align: right;\">\n",
       "      <th></th>\n",
       "      <th>Category</th>\n",
       "      <th>Type</th>\n",
       "      <th>Rating</th>\n",
       "    </tr>\n",
       "  </thead>\n",
       "  <tbody>\n",
       "    <tr>\n",
       "      <th>0</th>\n",
       "      <td>ART_AND_DESIGN</td>\n",
       "      <td>Free</td>\n",
       "      <td>4.358621</td>\n",
       "    </tr>\n",
       "    <tr>\n",
       "      <th>1</th>\n",
       "      <td>ART_AND_DESIGN</td>\n",
       "      <td>Paid</td>\n",
       "      <td>4.733333</td>\n",
       "    </tr>\n",
       "    <tr>\n",
       "      <th>2</th>\n",
       "      <td>AUTO_AND_VEHICLES</td>\n",
       "      <td>Free</td>\n",
       "      <td>4.184722</td>\n",
       "    </tr>\n",
       "    <tr>\n",
       "      <th>3</th>\n",
       "      <td>AUTO_AND_VEHICLES</td>\n",
       "      <td>Paid</td>\n",
       "      <td>4.600000</td>\n",
       "    </tr>\n",
       "    <tr>\n",
       "      <th>4</th>\n",
       "      <td>BEAUTY</td>\n",
       "      <td>Free</td>\n",
       "      <td>4.278571</td>\n",
       "    </tr>\n",
       "    <tr>\n",
       "      <th>...</th>\n",
       "      <td>...</td>\n",
       "      <td>...</td>\n",
       "      <td>...</td>\n",
       "    </tr>\n",
       "    <tr>\n",
       "      <th>56</th>\n",
       "      <td>TRAVEL_AND_LOCAL</td>\n",
       "      <td>Paid</td>\n",
       "      <td>4.100000</td>\n",
       "    </tr>\n",
       "    <tr>\n",
       "      <th>57</th>\n",
       "      <td>VIDEO_PLAYERS</td>\n",
       "      <td>Free</td>\n",
       "      <td>4.062821</td>\n",
       "    </tr>\n",
       "    <tr>\n",
       "      <th>58</th>\n",
       "      <td>VIDEO_PLAYERS</td>\n",
       "      <td>Paid</td>\n",
       "      <td>4.100000</td>\n",
       "    </tr>\n",
       "    <tr>\n",
       "      <th>59</th>\n",
       "      <td>WEATHER</td>\n",
       "      <td>Free</td>\n",
       "      <td>4.230882</td>\n",
       "    </tr>\n",
       "    <tr>\n",
       "      <th>60</th>\n",
       "      <td>WEATHER</td>\n",
       "      <td>Paid</td>\n",
       "      <td>4.371429</td>\n",
       "    </tr>\n",
       "  </tbody>\n",
       "</table>\n",
       "<p>61 rows × 3 columns</p>\n",
       "</div>"
      ],
      "text/plain": [
       "             Category  Type    Rating\n",
       "0      ART_AND_DESIGN  Free  4.358621\n",
       "1      ART_AND_DESIGN  Paid  4.733333\n",
       "2   AUTO_AND_VEHICLES  Free  4.184722\n",
       "3   AUTO_AND_VEHICLES  Paid  4.600000\n",
       "4              BEAUTY  Free  4.278571\n",
       "..                ...   ...       ...\n",
       "56   TRAVEL_AND_LOCAL  Paid  4.100000\n",
       "57      VIDEO_PLAYERS  Free  4.062821\n",
       "58      VIDEO_PLAYERS  Paid  4.100000\n",
       "59            WEATHER  Free  4.230882\n",
       "60            WEATHER  Paid  4.371429\n",
       "\n",
       "[61 rows x 3 columns]"
      ]
     },
     "execution_count": 64,
     "metadata": {},
     "output_type": "execute_result"
    }
   ],
   "source": [
    "df.groupby([\"Category\", \"Type\"])[\"Rating\"].mean().reset_index()"
   ]
  },
  {
   "cell_type": "markdown",
   "id": "6f1c9173",
   "metadata": {},
   "source": [
    "### 5. Quais categorias de app possuem as melhores e as piores classificações?"
   ]
  },
  {
   "cell_type": "code",
   "execution_count": 65,
   "id": "a7048708",
   "metadata": {},
   "outputs": [
    {
     "data": {
      "text/plain": [
       "Category\n",
       "EVENTS                 4.435556\n",
       "ART_AND_DESIGN         4.377049\n",
       "EDUCATION              4.375969\n",
       "BOOKS_AND_REFERENCE    4.347458\n",
       "PERSONALIZATION        4.333117\n",
       "PARENTING              4.300000\n",
       "GAME                   4.281285\n",
       "BEAUTY                 4.278571\n",
       "HEALTH_AND_FITNESS     4.261450\n",
       "SOCIAL                 4.254918\n",
       "SHOPPING               4.251485\n",
       "WEATHER                4.244000\n",
       "SPORTS                 4.225175\n",
       "PRODUCTIVITY           4.201796\n",
       "FAMILY                 4.191264\n",
       "AUTO_AND_VEHICLES      4.190411\n",
       "PHOTOGRAPHY            4.182895\n",
       "MEDICAL                4.182450\n",
       "LIBRARIES_AND_DEMO     4.179688\n",
       "HOUSE_AND_HOME         4.164706\n",
       "FOOD_AND_DRINK         4.164151\n",
       "COMICS                 4.155172\n",
       "COMMUNICATION          4.151466\n",
       "ENTERTAINMENT          4.136036\n",
       "NEWS_AND_MAGAZINES     4.128505\n",
       "FINANCE                4.127445\n",
       "BUSINESS               4.102593\n",
       "LIFESTYLE              4.096066\n",
       "TRAVEL_AND_LOCAL       4.094146\n",
       "VIDEO_PLAYERS          4.063750\n",
       "MAPS_AND_NAVIGATION    4.051613\n",
       "TOOLS                  4.047203\n",
       "DATING                 3.971698\n",
       "Name: Rating, dtype: float64"
      ]
     },
     "execution_count": 65,
     "metadata": {},
     "output_type": "execute_result"
    }
   ],
   "source": [
    "df.groupby([\"Category\"])[\"Rating\"].mean().sort_values(ascending=False)"
   ]
  },
  {
   "cell_type": "markdown",
   "id": "70cb2a99",
   "metadata": {},
   "source": [
    "Quais aplicativos possuem avaliação mínima?"
   ]
  },
  {
   "cell_type": "code",
   "execution_count": 66,
   "id": "3fe898de",
   "metadata": {},
   "outputs": [
    {
     "name": "stdout",
     "output_type": "stream",
     "text": [
      "Range:  1.0 - 5.0\n"
     ]
    }
   ],
   "source": [
    "print(\"Range: \", df.Rating.min(),\"-\",df.Rating.max())"
   ]
  },
  {
   "cell_type": "code",
   "execution_count": 67,
   "id": "a9f91876",
   "metadata": {},
   "outputs": [
    {
     "data": {
      "text/html": [
       "<div>\n",
       "<style scoped>\n",
       "    .dataframe tbody tr th:only-of-type {\n",
       "        vertical-align: middle;\n",
       "    }\n",
       "\n",
       "    .dataframe tbody tr th {\n",
       "        vertical-align: top;\n",
       "    }\n",
       "\n",
       "    .dataframe thead th {\n",
       "        text-align: right;\n",
       "    }\n",
       "</style>\n",
       "<table border=\"1\" class=\"dataframe\">\n",
       "  <thead>\n",
       "    <tr style=\"text-align: right;\">\n",
       "      <th></th>\n",
       "      <th>App</th>\n",
       "      <th>Rating</th>\n",
       "      <th>Category</th>\n",
       "    </tr>\n",
       "  </thead>\n",
       "  <tbody>\n",
       "    <tr>\n",
       "      <th>625</th>\n",
       "      <td>House party - live chat</td>\n",
       "      <td>1.0</td>\n",
       "      <td>DATING</td>\n",
       "    </tr>\n",
       "    <tr>\n",
       "      <th>4127</th>\n",
       "      <td>Speech Therapy: F</td>\n",
       "      <td>1.0</td>\n",
       "      <td>FAMILY</td>\n",
       "    </tr>\n",
       "    <tr>\n",
       "      <th>5151</th>\n",
       "      <td>Clarksburg AH</td>\n",
       "      <td>1.0</td>\n",
       "      <td>MEDICAL</td>\n",
       "    </tr>\n",
       "    <tr>\n",
       "      <th>5978</th>\n",
       "      <td>Truck Driving Test Class 3 BC</td>\n",
       "      <td>1.0</td>\n",
       "      <td>FAMILY</td>\n",
       "    </tr>\n",
       "    <tr>\n",
       "      <th>6319</th>\n",
       "      <td>BJ Bridge Standard American 2018</td>\n",
       "      <td>1.0</td>\n",
       "      <td>GAME</td>\n",
       "    </tr>\n",
       "    <tr>\n",
       "      <th>6490</th>\n",
       "      <td>MbH BM</td>\n",
       "      <td>1.0</td>\n",
       "      <td>MEDICAL</td>\n",
       "    </tr>\n",
       "    <tr>\n",
       "      <th>7144</th>\n",
       "      <td>CB Mobile Biz</td>\n",
       "      <td>1.0</td>\n",
       "      <td>FINANCE</td>\n",
       "    </tr>\n",
       "    <tr>\n",
       "      <th>7383</th>\n",
       "      <td>Thistletown CI</td>\n",
       "      <td>1.0</td>\n",
       "      <td>PRODUCTIVITY</td>\n",
       "    </tr>\n",
       "    <tr>\n",
       "      <th>7427</th>\n",
       "      <td>CJ DVD Rentals</td>\n",
       "      <td>1.0</td>\n",
       "      <td>COMMUNICATION</td>\n",
       "    </tr>\n",
       "    <tr>\n",
       "      <th>7806</th>\n",
       "      <td>CR Magazine</td>\n",
       "      <td>1.0</td>\n",
       "      <td>BUSINESS</td>\n",
       "    </tr>\n",
       "    <tr>\n",
       "      <th>7926</th>\n",
       "      <td>Tech CU Card Manager</td>\n",
       "      <td>1.0</td>\n",
       "      <td>FINANCE</td>\n",
       "    </tr>\n",
       "    <tr>\n",
       "      <th>8820</th>\n",
       "      <td>DS Creator 2.0</td>\n",
       "      <td>1.0</td>\n",
       "      <td>TOOLS</td>\n",
       "    </tr>\n",
       "    <tr>\n",
       "      <th>8875</th>\n",
       "      <td>DT future1 cam</td>\n",
       "      <td>1.0</td>\n",
       "      <td>TOOLS</td>\n",
       "    </tr>\n",
       "    <tr>\n",
       "      <th>10324</th>\n",
       "      <td>FE Mechanical Engineering Prep</td>\n",
       "      <td>1.0</td>\n",
       "      <td>FAMILY</td>\n",
       "    </tr>\n",
       "    <tr>\n",
       "      <th>10400</th>\n",
       "      <td>Familial Hypercholesterolaemia Handbook</td>\n",
       "      <td>1.0</td>\n",
       "      <td>MEDICAL</td>\n",
       "    </tr>\n",
       "    <tr>\n",
       "      <th>10591</th>\n",
       "      <td>Lottery Ticket Checker - Florida Results &amp; Lotto</td>\n",
       "      <td>1.0</td>\n",
       "      <td>TOOLS</td>\n",
       "    </tr>\n",
       "  </tbody>\n",
       "</table>\n",
       "</div>"
      ],
      "text/plain": [
       "                                                    App  Rating       Category\n",
       "625                             House party - live chat     1.0         DATING\n",
       "4127                                  Speech Therapy: F     1.0         FAMILY\n",
       "5151                                      Clarksburg AH     1.0        MEDICAL\n",
       "5978                      Truck Driving Test Class 3 BC     1.0         FAMILY\n",
       "6319                   BJ Bridge Standard American 2018     1.0           GAME\n",
       "6490                                             MbH BM     1.0        MEDICAL\n",
       "7144                                      CB Mobile Biz     1.0        FINANCE\n",
       "7383                                     Thistletown CI     1.0   PRODUCTIVITY\n",
       "7427                                     CJ DVD Rentals     1.0  COMMUNICATION\n",
       "7806                                        CR Magazine     1.0       BUSINESS\n",
       "7926                               Tech CU Card Manager     1.0        FINANCE\n",
       "8820                                     DS Creator 2.0     1.0          TOOLS\n",
       "8875                                     DT future1 cam     1.0          TOOLS\n",
       "10324                    FE Mechanical Engineering Prep     1.0         FAMILY\n",
       "10400           Familial Hypercholesterolaemia Handbook     1.0        MEDICAL\n",
       "10591  Lottery Ticket Checker - Florida Results & Lotto     1.0          TOOLS"
      ]
     },
     "execution_count": 67,
     "metadata": {},
     "output_type": "execute_result"
    }
   ],
   "source": [
    "df[(df.Rating == df.Rating.min())][[\"App\", \"Rating\", \"Category\"]]"
   ]
  },
  {
   "cell_type": "markdown",
   "id": "62494ed7",
   "metadata": {},
   "source": [
    "Quais aplicativos possuem avaliação máxima?"
   ]
  },
  {
   "cell_type": "code",
   "execution_count": 68,
   "id": "b4a6dccd",
   "metadata": {},
   "outputs": [
    {
     "data": {
      "text/html": [
       "<div>\n",
       "<style scoped>\n",
       "    .dataframe tbody tr th:only-of-type {\n",
       "        vertical-align: middle;\n",
       "    }\n",
       "\n",
       "    .dataframe tbody tr th {\n",
       "        vertical-align: top;\n",
       "    }\n",
       "\n",
       "    .dataframe thead th {\n",
       "        text-align: right;\n",
       "    }\n",
       "</style>\n",
       "<table border=\"1\" class=\"dataframe\">\n",
       "  <thead>\n",
       "    <tr style=\"text-align: right;\">\n",
       "      <th></th>\n",
       "      <th>App</th>\n",
       "      <th>Rating</th>\n",
       "      <th>Category</th>\n",
       "    </tr>\n",
       "  </thead>\n",
       "  <tbody>\n",
       "    <tr>\n",
       "      <th>329</th>\n",
       "      <td>Hojiboy Tojiboyev Life Hacks</td>\n",
       "      <td>5.0</td>\n",
       "      <td>COMICS</td>\n",
       "    </tr>\n",
       "    <tr>\n",
       "      <th>612</th>\n",
       "      <td>American Girls Mobile Numbers</td>\n",
       "      <td>5.0</td>\n",
       "      <td>DATING</td>\n",
       "    </tr>\n",
       "    <tr>\n",
       "      <th>615</th>\n",
       "      <td>Awake Dating</td>\n",
       "      <td>5.0</td>\n",
       "      <td>DATING</td>\n",
       "    </tr>\n",
       "    <tr>\n",
       "      <th>633</th>\n",
       "      <td>Spine- The dating app</td>\n",
       "      <td>5.0</td>\n",
       "      <td>DATING</td>\n",
       "    </tr>\n",
       "    <tr>\n",
       "      <th>636</th>\n",
       "      <td>Girls Live Talk - Free Text and Video Chat</td>\n",
       "      <td>5.0</td>\n",
       "      <td>DATING</td>\n",
       "    </tr>\n",
       "    <tr>\n",
       "      <th>...</th>\n",
       "      <td>...</td>\n",
       "      <td>...</td>\n",
       "      <td>...</td>\n",
       "    </tr>\n",
       "    <tr>\n",
       "      <th>10721</th>\n",
       "      <td>Mad Dash Fo' Cash</td>\n",
       "      <td>5.0</td>\n",
       "      <td>GAME</td>\n",
       "    </tr>\n",
       "    <tr>\n",
       "      <th>10742</th>\n",
       "      <td>GKPB FP Online Church</td>\n",
       "      <td>5.0</td>\n",
       "      <td>LIFESTYLE</td>\n",
       "    </tr>\n",
       "    <tr>\n",
       "      <th>10776</th>\n",
       "      <td>Monster Ride Pro</td>\n",
       "      <td>5.0</td>\n",
       "      <td>GAME</td>\n",
       "    </tr>\n",
       "    <tr>\n",
       "      <th>10820</th>\n",
       "      <td>Fr. Daoud Lamei</td>\n",
       "      <td>5.0</td>\n",
       "      <td>FAMILY</td>\n",
       "    </tr>\n",
       "    <tr>\n",
       "      <th>10837</th>\n",
       "      <td>Fr. Mike Schmitz Audio Teachings</td>\n",
       "      <td>5.0</td>\n",
       "      <td>FAMILY</td>\n",
       "    </tr>\n",
       "  </tbody>\n",
       "</table>\n",
       "<p>271 rows × 3 columns</p>\n",
       "</div>"
      ],
      "text/plain": [
       "                                              App  Rating   Category\n",
       "329                  Hojiboy Tojiboyev Life Hacks     5.0     COMICS\n",
       "612                 American Girls Mobile Numbers     5.0     DATING\n",
       "615                                  Awake Dating     5.0     DATING\n",
       "633                         Spine- The dating app     5.0     DATING\n",
       "636    Girls Live Talk - Free Text and Video Chat     5.0     DATING\n",
       "...                                           ...     ...        ...\n",
       "10721                           Mad Dash Fo' Cash     5.0       GAME\n",
       "10742                       GKPB FP Online Church     5.0  LIFESTYLE\n",
       "10776                            Monster Ride Pro     5.0       GAME\n",
       "10820                             Fr. Daoud Lamei     5.0     FAMILY\n",
       "10837            Fr. Mike Schmitz Audio Teachings     5.0     FAMILY\n",
       "\n",
       "[271 rows x 3 columns]"
      ]
     },
     "execution_count": 68,
     "metadata": {},
     "output_type": "execute_result"
    }
   ],
   "source": [
    "df[(df.Rating == df.Rating.max())][[\"App\", \"Rating\", \"Category\"]]"
   ]
  },
  {
   "cell_type": "code",
   "execution_count": 69,
   "id": "3eb5534b",
   "metadata": {},
   "outputs": [
    {
     "name": "stderr",
     "output_type": "stream",
     "text": [
      "C:\\Users\\andre\\AppData\\Local\\Temp\\ipykernel_8100\\2116150008.py:3: FutureWarning: Passing `palette` without assigning `hue` is deprecated.\n",
      "  sns.stripplot(x='Category', y='Rating', data=df, palette='rocket', order= df['Category'].value_counts().index)\n"
     ]
    },
    {
     "data": {
      "image/png": "[encoded data removed]",
      "text/plain": [
       "<Figure size 2200x500 with 1 Axes>"
      ]
     },
     "metadata": {},
     "output_type": "display_data"
    }
   ],
   "source": [
    "fig, ax = plt.subplots(figsize=(22,5))\n",
    "\n",
    "sns.stripplot(x='Category', y='Rating', data=df, palette='rocket', order= df['Category'].value_counts().index)\n",
    "\n",
    "plt.xlabel('\\n Categoria', fontsize= 10, fontweight = 'bold')\n",
    "plt.ylabel('Avaliação', fontsize= 10, fontweight = 'bold')\n",
    "plt.title('Avaliação das categorias', fontsize = 15, fontweight = 'bold')\n",
    "plt.xticks(rotation = 90)\n",
    "plt.show()"
   ]
  },
  {
   "cell_type": "code",
   "execution_count": null,
   "id": "8d4111dc",
   "metadata": {},
   "outputs": [],
   "source": []
  }
 ],
 "metadata": {
  "kernelspec": {
   "display_name": "Python 3 (ipykernel)",
   "language": "python",
   "name": "python3"
  },
  "language_info": {
   "codemirror_mode": {
    "name": "ipython",
    "version": 3
   },
   "file_extension": ".py",
   "mimetype": "text/x-python",
   "name": "python",
   "nbconvert_exporter": "python",
   "pygments_lexer": "ipython3",
   "version": "3.10.9"
  }
 },
 "nbformat": 4,
 "nbformat_minor": 5
}
