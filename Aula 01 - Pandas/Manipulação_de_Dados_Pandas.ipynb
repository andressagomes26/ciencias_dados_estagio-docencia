{
 "cells": [
  {
   "cell_type": "markdown",
   "id": "d1916364",
   "metadata": {},
   "source": [
    "# <font color = #119fbf> **Manipulação de Dados com Pandas**</font>\n",
    "\n",
    "* Programa de Pós-Graduação em Engenharia Elétrica e de Computação (PPGEEC)\n",
    "* Introdução à Ciências de Dados - UFC Campus Sobral – 2023.1\n",
    "* Andressa Gomes Moreira"
   ]
  },
  {
   "cell_type": "markdown",
   "id": "3e9860d7",
   "metadata": {},
   "source": [
    "## Instalação"
   ]
  },
  {
   "cell_type": "code",
   "execution_count": null,
   "id": "2f9eda1a",
   "metadata": {},
   "outputs": [],
   "source": [
    "#!pip install pandas"
   ]
  },
  {
   "cell_type": "code",
   "execution_count": null,
   "id": "aa090ee5",
   "metadata": {},
   "outputs": [],
   "source": [
    "import pandas as pd\n",
    "import numpy as np\n",
    "pd.__version__"
   ]
  },
  {
   "cell_type": "markdown",
   "id": "6a483b10",
   "metadata": {},
   "source": [
    "## Estruturas de Dados"
   ]
  },
  {
   "cell_type": "markdown",
   "id": "9daa7986",
   "metadata": {},
   "source": [
    "### Series\n",
    "\n",
    "- Matriz rotulada unidimensional capaz de conter qualquer tipo de dados (inteiros, strings, ponto flutuante, objetos). \n",
    "\n",
    "- Pode ser criado a partir de uma lista ou array\n",
    "\n",
    "- O método para criar um Series: *```pd.Series()```*"
   ]
  },
  {
   "cell_type": "code",
   "execution_count": null,
   "id": "5c245592",
   "metadata": {},
   "outputs": [],
   "source": [
    "data = pd.Series([0.25, 0.5, 0.75, 1.0])\n",
    "data"
   ]
  },
  {
   "cell_type": "markdown",
   "id": "05c2f8bb",
   "metadata": {},
   "source": [
    "* O *```Series```* envolve uma sequência de **valores** e uma sequência de **índices**\n",
    "\n",
    "* Podemos acessar os valores com o atributo *```values```* e os índices com o atributo *```index```* "
   ]
  },
  {
   "cell_type": "code",
   "execution_count": null,
   "id": "bfbfa378",
   "metadata": {},
   "outputs": [],
   "source": [
    "data.values"
   ]
  },
  {
   "cell_type": "code",
   "execution_count": null,
   "id": "f0163ae6",
   "metadata": {},
   "outputs": [],
   "source": [
    "data.index"
   ]
  },
  {
   "cell_type": "markdown",
   "id": "d38b640e",
   "metadata": {},
   "source": [
    "* Como em uma array NumPy, os dados podem ser acessados pelo índice por meio da notação de colchetes"
   ]
  },
  {
   "cell_type": "code",
   "execution_count": null,
   "id": "c46bd6cf",
   "metadata": {},
   "outputs": [],
   "source": [
    "data[0]"
   ]
  },
  {
   "cell_type": "code",
   "execution_count": null,
   "id": "d30813f8",
   "metadata": {},
   "outputs": [],
   "source": [
    "data[1:3]"
   ]
  },
  {
   "cell_type": "markdown",
   "id": "378a2e10",
   "metadata": {},
   "source": [
    "* O **índice** é definido explicitamente e não precisa ser um número inteiro, mas pode consistir em valores de qualquer tipo desejado. Por exemplo, podemos usar strings como índice:"
   ]
  },
  {
   "cell_type": "code",
   "execution_count": null,
   "id": "e9ebfdac",
   "metadata": {},
   "outputs": [],
   "source": [
    "s = pd.Series([\"Maria\", 25, \"F\", 1.65], index=[\"Nome\", \"Idade\", \"Sexo\", \"Altura\"])\n",
    "s"
   ]
  },
  {
   "cell_type": "code",
   "execution_count": null,
   "id": "5b242e2a",
   "metadata": {},
   "outputs": [],
   "source": [
    "s['Nome']"
   ]
  },
  {
   "cell_type": "code",
   "execution_count": null,
   "id": "284d64a4",
   "metadata": {},
   "outputs": [],
   "source": [
    "s['Idade':'Sexo']"
   ]
  },
  {
   "cell_type": "markdown",
   "id": "fbdedc0d",
   "metadata": {},
   "source": [
    "* É possível construir um *```Series```*  diretamente de um dicionário Python. \n",
    "\n",
    "* Um dicionário Python é uma estrutura que mapeia chaves para um conjunto de valores."
   ]
  },
  {
   "cell_type": "code",
   "execution_count": null,
   "id": "ea972323",
   "metadata": {},
   "outputs": [],
   "source": [
    "area_dict = {'California': 423967, \n",
    "             'Texas': 695662, \n",
    "             'New York': 141297, \n",
    "             'Florida': 170312, \n",
    "             'Illinois': 149995}"
   ]
  },
  {
   "cell_type": "code",
   "execution_count": null,
   "id": "3b5910e2",
   "metadata": {},
   "outputs": [],
   "source": [
    "area = pd.Series(area_dict)\n",
    "area"
   ]
  },
  {
   "cell_type": "code",
   "execution_count": null,
   "id": "07db1e67",
   "metadata": {},
   "outputs": [],
   "source": [
    "area.values"
   ]
  },
  {
   "cell_type": "code",
   "execution_count": null,
   "id": "23bf966f",
   "metadata": {},
   "outputs": [],
   "source": [
    "area.index"
   ]
  },
  {
   "cell_type": "code",
   "execution_count": null,
   "id": "b1f0e1cb",
   "metadata": {},
   "outputs": [],
   "source": [
    "area['Texas']"
   ]
  },
  {
   "cell_type": "markdown",
   "id": "d81e5b83",
   "metadata": {},
   "source": [
    "### DataFrame\n",
    "\n",
    "- Estrutura de dados rotulada bidimensional com colunas de tipos diferentes.\n",
    "- O método para criar um DataFrame: *```pd.DataFrame()```*\n",
    "- NaN é o marcador de dados ausentes padrão usado em pandas."
   ]
  },
  {
   "cell_type": "code",
   "execution_count": null,
   "id": "b46b0bb3",
   "metadata": {},
   "outputs": [],
   "source": [
    "d = {\n",
    "    \"one\": pd.Series([1.0, 2.0, 3.0], index=[\"a\", \"b\", \"c\"]),\n",
    "    \"two\": pd.Series([1.0, 2.0, 3.0, 4.0], index=[\"a\", \"b\", \"c\", \"d\"]),\n",
    "}\n",
    "\n",
    "\n",
    "d1 = pd.DataFrame(d)\n",
    "d1"
   ]
  },
  {
   "cell_type": "markdown",
   "id": "b857accd",
   "metadata": {},
   "source": [
    "- *```Series```* é um análogo de uma matriz unidimensional com índices flexíveis;\n",
    "- *```DataFrame```* é um análogo de uma matriz bidimensional com índices e nomes de coluna flexíveis."
   ]
  },
  {
   "cell_type": "code",
   "execution_count": null,
   "id": "a7834ee0",
   "metadata": {},
   "outputs": [],
   "source": [
    "population_dict = {'California': 38332521, 'Texas': 26448193, 'New York': 19651127}\n",
    "                   \n",
    "population = pd.Series(population_dict)\n",
    "population"
   ]
  },
  {
   "cell_type": "code",
   "execution_count": null,
   "id": "978c58d8",
   "metadata": {},
   "outputs": [],
   "source": [
    "area_dict = {'California': 423967, 'Texas': 695662, 'New York': 141297}\n",
    "\n",
    "area = pd.Series(area_dict)\n",
    "area"
   ]
  },
  {
   "cell_type": "code",
   "execution_count": null,
   "id": "6f299c83",
   "metadata": {},
   "outputs": [],
   "source": [
    "states = pd.DataFrame({'population': population, 'area': area})\n",
    "states"
   ]
  },
  {
   "cell_type": "markdown",
   "id": "4cd7cfa2",
   "metadata": {},
   "source": [
    "* *```DataFrame```* possui um atributos ```index``` e ```columns``` para dar acesso aos rótulos dos índices e das colunas"
   ]
  },
  {
   "cell_type": "code",
   "execution_count": null,
   "id": "83a77cfb",
   "metadata": {},
   "outputs": [],
   "source": [
    "states.index"
   ]
  },
  {
   "cell_type": "code",
   "execution_count": null,
   "id": "7312bd19",
   "metadata": {},
   "outputs": [],
   "source": [
    "states.values"
   ]
  },
  {
   "cell_type": "code",
   "execution_count": null,
   "id": "3ff5e8d0",
   "metadata": {},
   "outputs": [],
   "source": [
    "states.columns"
   ]
  },
  {
   "cell_type": "markdown",
   "id": "ba442b56",
   "metadata": {},
   "source": [
    "Acessando valores pelo index"
   ]
  },
  {
   "cell_type": "code",
   "execution_count": null,
   "id": "bbd793d6",
   "metadata": {},
   "outputs": [],
   "source": [
    "states['area']"
   ]
  },
  {
   "cell_type": "code",
   "execution_count": null,
   "id": "3a617bcb",
   "metadata": {},
   "outputs": [],
   "source": [
    "states['area']['California']"
   ]
  },
  {
   "cell_type": "code",
   "execution_count": null,
   "id": "cf4e9fbf",
   "metadata": {},
   "outputs": [],
   "source": [
    "#states['California']['area']"
   ]
  },
  {
   "cell_type": "code",
   "execution_count": null,
   "id": "5ca6c19c",
   "metadata": {},
   "outputs": [],
   "source": [
    "states[1:3]"
   ]
  },
  {
   "cell_type": "markdown",
   "id": "b696ebcc",
   "metadata": {},
   "source": [
    "# Aplicação"
   ]
  },
  {
   "cell_type": "markdown",
   "id": "d97e08ca",
   "metadata": {},
   "source": [
    "### Análise de dados Google Play Store Apps\n",
    "\n",
    "> Link para download do dataset **[Google Play Store Apps](https://www.kaggle.com/datasets/lava18/google-play-store-apps)** \n",
    "\n",
    "O dataset possui dados extraídos de 10 mil aplicativos da Google Play Store para análise do mercado Android. O conjunto de dados (**athlete_events.csv**) é composto por 10841 amostras e 13 atributos. Cada amostra refere-se a um aplicativo no Google Play Store. Existem 13 atributos que descrevem um determinado aplicativo. Os atributos listados na base de dados são:\n",
    "\n",
    "1. App - Nome do aplicativo \n",
    "2. Category\t- Categoria à qual o aplicativo pertence\n",
    "3. Rating\t- Classificação geral do usuário do aplicativo\n",
    "4. Reviews - Número de comentários do usuário para o aplicativo\n",
    "5. Size\t - Tamanho do aplicativo \n",
    "6. Installs\t- Número de downloads/instalações do usuário para o aplicativo\n",
    "7. Type\t- Tipo: Pago ou Gratuito\n",
    "8. Price - Preço do aplicativo\n",
    "9. Content Rating - Classificação do conteúdo - faixa etária: Crianças / Maiores de 21 anos / Adulto\n",
    "10. Genres - Gêneros\n",
    "11. Last Updated - Data em que o aplicativo foi atualizado pela última vez na Play Store\n",
    "12. Current Ver\t- Versão Atual do aplicativo disponível na Play Stor\n",
    "13. Android Ver - Versão mínima necessária do Android\n",
    "\n",
    "A partir da análise dos dados contidos no dataset alguns questionamentos podem ser feitos:\n",
    "\n",
    "1. Qual categoria de aplicativo é mais instalada pelos usuários?\n",
    "2. Quais aplicativos mais caros disponíveis na Play Store?\n",
    "3. Qual a quantidade de aplicativos disponíveis de acordo com a faixa etária e gênero?\n",
    "4. Qual a Classificação dos Aplicativos de acordo com o Tipo (pago ou gratuito)?\n",
    "5. Quais categorias de app possuem as melhores e as piores classificação?"
   ]
  },
  {
   "cell_type": "markdown",
   "id": "c662f743",
   "metadata": {},
   "source": [
    "#### Carregando o dataset"
   ]
  },
  {
   "cell_type": "code",
   "execution_count": null,
   "id": "ec393a67",
   "metadata": {},
   "outputs": [],
   "source": [
    "df = pd.read_csv(\"googleplaystore.csv\", sep=',')"
   ]
  },
  {
   "cell_type": "markdown",
   "id": "c67c6d19",
   "metadata": {},
   "source": [
    "#### Informações Básicas"
   ]
  },
  {
   "cell_type": "markdown",
   "id": "1d418ebd",
   "metadata": {},
   "source": [
    "Formato (linhas, colunas) "
   ]
  },
  {
   "cell_type": "code",
   "execution_count": null,
   "id": "3db8aa15",
   "metadata": {},
   "outputs": [],
   "source": [
    "# Retorna uma tupla que representa a dimensionalidade do DataFrame\n",
    "df.shape"
   ]
  },
  {
   "cell_type": "code",
   "execution_count": null,
   "id": "f77b0bdc",
   "metadata": {},
   "outputs": [],
   "source": [
    "df.info()"
   ]
  },
  {
   "cell_type": "markdown",
   "id": "f1c6c6c8",
   "metadata": {},
   "source": [
    "Visualizar as cinco primeiras linhas do dataset"
   ]
  },
  {
   "cell_type": "code",
   "execution_count": null,
   "id": "06f2f7a3",
   "metadata": {},
   "outputs": [],
   "source": [
    "df.head()"
   ]
  },
  {
   "cell_type": "markdown",
   "id": "2c856f77",
   "metadata": {},
   "source": [
    "Visualizar as cinco últimas linhas do dataset"
   ]
  },
  {
   "cell_type": "code",
   "execution_count": null,
   "id": "60d9ae6d",
   "metadata": {},
   "outputs": [],
   "source": [
    "df.tail()"
   ]
  },
  {
   "cell_type": "markdown",
   "id": "b1d37376",
   "metadata": {},
   "source": [
    "Informações estatísticas (média, desvio padrão, valores mínimo e máximo, etc)"
   ]
  },
  {
   "cell_type": "code",
   "execution_count": null,
   "id": "8317e5d6",
   "metadata": {},
   "outputs": [],
   "source": [
    "df.describe()"
   ]
  },
  {
   "cell_type": "markdown",
   "id": "80aa4ef1",
   "metadata": {},
   "source": [
    "#### Selecionar Dados "
   ]
  },
  {
   "cell_type": "markdown",
   "id": "c5788eb1",
   "metadata": {},
   "source": [
    "Selecionando uma ou n colunas por índice "
   ]
  },
  {
   "cell_type": "code",
   "execution_count": null,
   "id": "2d70f27d",
   "metadata": {},
   "outputs": [],
   "source": [
    "df[['Genres', 'Category']].head()"
   ]
  },
  {
   "cell_type": "markdown",
   "id": "feda7705",
   "metadata": {},
   "source": [
    "Selecionando colunas usando notação de ponto"
   ]
  },
  {
   "cell_type": "code",
   "execution_count": null,
   "id": "b1a4b07e",
   "metadata": {},
   "outputs": [],
   "source": [
    "df.Category.head()"
   ]
  },
  {
   "cell_type": "markdown",
   "id": "4897edf8",
   "metadata": {},
   "source": [
    "Verificando os valores presentes em uma coluna"
   ]
  },
  {
   "cell_type": "code",
   "execution_count": null,
   "id": "93815d8c",
   "metadata": {},
   "outputs": [],
   "source": [
    "df['Category'].unique()"
   ]
  },
  {
   "cell_type": "code",
   "execution_count": null,
   "id": "1b0661bd",
   "metadata": {},
   "outputs": [],
   "source": [
    "df['Rating'].unique()"
   ]
  },
  {
   "cell_type": "markdown",
   "id": "cf49d7a9",
   "metadata": {},
   "source": [
    "#### Limpeza dos Dados"
   ]
  },
  {
   "cell_type": "markdown",
   "id": "8b121567",
   "metadata": {},
   "source": [
    "Atributos que possuem amostras com valores nulos"
   ]
  },
  {
   "cell_type": "code",
   "execution_count": null,
   "id": "d26d9970",
   "metadata": {},
   "outputs": [],
   "source": [
    "df.isnull().sum()"
   ]
  },
  {
   "cell_type": "markdown",
   "id": "0c886aa7",
   "metadata": {},
   "source": [
    "Ordenar pelos valores ao longo de um dos eixos."
   ]
  },
  {
   "cell_type": "code",
   "execution_count": null,
   "id": "9037d80d",
   "metadata": {},
   "outputs": [],
   "source": [
    "total = df.isnull().sum().sort_values(ascending=False)\n",
    "total.head()"
   ]
  },
  {
   "cell_type": "markdown",
   "id": "747e15ff",
   "metadata": {},
   "source": [
    "Porcentagem de valores Nulos"
   ]
  },
  {
   "cell_type": "code",
   "execution_count": null,
   "id": "ca4147cd",
   "metadata": {},
   "outputs": [],
   "source": [
    "porcent = ((df.isnull().sum()/df.shape[0])*100).sort_values(ascending=False)\n",
    "\n",
    "porcent_df = pd.DataFrame({'Total': total, 'Porcentagem': porcent})\n",
    "porcent_df.head()"
   ]
  },
  {
   "cell_type": "markdown",
   "id": "b4ab4761",
   "metadata": {},
   "source": [
    "Remover valores ausentes\n",
    "\n",
    "~~~python\n",
    "df.dropna(axis=0, how ='any', inplace = True)\n",
    "~~~\n",
    "\n",
    "- axis: 0 = 'Linhas', 1 = 'Colunas'\n",
    "\n",
    "    * 0 = 'Linhas': Descarte as linhas que contêm valores ausentes.\n",
    "    * 1 = 'Colunas': Descarte as colunas que contêm valores ausentes.\n",
    "\n",
    "- how: 'any', 'all'\n",
    "\n",
    "    * 'any' : Se algum valor NA estiver presente, elimine essa linha ou coluna.\n",
    "    * 'all' : Se todos os valores forem NA, elimine essa linha ou coluna.\n",
    "\n",
    "- inplace\n",
    "    * Se deve modificar o DataFrame em vez de criar um novo.\n"
   ]
  },
  {
   "cell_type": "code",
   "execution_count": null,
   "id": "81765f31",
   "metadata": {},
   "outputs": [],
   "source": [
    "df.dropna(axis=0, how ='any', inplace = True)"
   ]
  },
  {
   "cell_type": "code",
   "execution_count": null,
   "id": "22fe2151",
   "metadata": {},
   "outputs": [],
   "source": [
    "total = df.isnull().sum().sort_values(ascending=False)\n",
    "porcent = ((df.isnull().sum()/df.shape[0])*100).sort_values(ascending=False)\n",
    "\n",
    "porcent_df = pd.DataFrame({'Total': total, 'Porcentagem': porcent})\n",
    "porcent_df.head()"
   ]
  },
  {
   "cell_type": "markdown",
   "id": "fb82806e",
   "metadata": {},
   "source": [
    "Verificar a dimensionalidade do DataFrame após a exclusão dos dados nulos"
   ]
  },
  {
   "cell_type": "code",
   "execution_count": null,
   "id": "e74fb89f",
   "metadata": {},
   "outputs": [],
   "source": [
    "df.shape"
   ]
  },
  {
   "cell_type": "markdown",
   "id": "30ba2baa",
   "metadata": {},
   "source": [
    "Removendo duplicados\n",
    "\n",
    "~~~python\n",
    "df.drop_duplicates(inplace = True)\n",
    "~~~"
   ]
  },
  {
   "cell_type": "code",
   "execution_count": null,
   "id": "8b5aba2c",
   "metadata": {},
   "outputs": [],
   "source": [
    "df.duplicated(subset=['Rating'])"
   ]
  },
  {
   "cell_type": "code",
   "execution_count": null,
   "id": "c53e60d3",
   "metadata": {},
   "outputs": [],
   "source": [
    "df.drop_duplicates(inplace = True)"
   ]
  },
  {
   "cell_type": "markdown",
   "id": "c1e1274b",
   "metadata": {},
   "source": [
    "Verificar a dimensionalidade do DataFrame após a exclusão dos dados duplicados"
   ]
  },
  {
   "cell_type": "code",
   "execution_count": null,
   "id": "c2770297",
   "metadata": {},
   "outputs": [],
   "source": [
    "df.shape"
   ]
  },
  {
   "cell_type": "markdown",
   "id": "66879fc3",
   "metadata": {},
   "source": [
    "## Podemos fazer alguns questionamentos:"
   ]
  },
  {
   "cell_type": "markdown",
   "id": "48a02c5a",
   "metadata": {},
   "source": [
    "### 1. Qual categoria de aplicativo é mais instalada pelos usuários?"
   ]
  },
  {
   "cell_type": "markdown",
   "id": "920019e6",
   "metadata": {},
   "source": [
    "**Installs** - Número de downloads/instalações do usuário para o aplicativo"
   ]
  },
  {
   "cell_type": "code",
   "execution_count": null,
   "id": "e063927f",
   "metadata": {},
   "outputs": [],
   "source": [
    "df['Installs']"
   ]
  },
  {
   "cell_type": "code",
   "execution_count": null,
   "id": "bc57b1ac",
   "metadata": {},
   "outputs": [],
   "source": [
    "df['Installs'][0]\n",
    "#df['Installs'][0].replace(\",\",\"\")\n",
    "#df['Installs'][0].replace(\"+\",\"\")"
   ]
  },
  {
   "cell_type": "markdown",
   "id": "41727242",
   "metadata": {},
   "source": [
    "Limpeza nos dados da categoria Instalação"
   ]
  },
  {
   "cell_type": "code",
   "execution_count": null,
   "id": "e0355b3a",
   "metadata": {},
   "outputs": [],
   "source": [
    "df['Installs'] = df.Installs.str.replace(\",\",\"\")\n",
    "df['Installs'] = df.Installs.str.replace(\"+\",\"\")\n",
    "df['Installs'] = df['Installs'].astype(float)\n",
    "df['Installs'].dtype"
   ]
  },
  {
   "cell_type": "code",
   "execution_count": null,
   "id": "fef58ea5",
   "metadata": {},
   "outputs": [],
   "source": [
    "df['Installs']"
   ]
  },
  {
   "cell_type": "code",
   "execution_count": null,
   "id": "b93ba25d",
   "metadata": {},
   "outputs": [],
   "source": [
    "category_list = list(df['Category'].unique())\n",
    "category_install = []\n",
    "\n",
    "for i in category_list:\n",
    "    x = df[df['Category'] == i]\n",
    "    if(len(x)!=0):\n",
    "        install = sum(x.Installs)/len(x)\n",
    "        category_install.append(install)\n",
    "    else:\n",
    "        install = sum(x.Installs)\n",
    "        category_install.append(install)\n",
    "        \n",
    "df_category = pd.DataFrame({'category': category_list,'install':category_install})\n",
    "df_category.sort_values(by=\"install\",ascending=False).head(30)"
   ]
  },
  {
   "cell_type": "markdown",
   "id": "d2194f3f",
   "metadata": {},
   "source": [
    "### 2. Quais aplicativos mais caros disponíveis na Play Store?"
   ]
  },
  {
   "cell_type": "markdown",
   "id": "e8395336",
   "metadata": {},
   "source": [
    "**Price** - Preço do aplicativo"
   ]
  },
  {
   "cell_type": "code",
   "execution_count": null,
   "id": "6139ebd6",
   "metadata": {},
   "outputs": [],
   "source": [
    "df[\"Price\"].unique()"
   ]
  },
  {
   "cell_type": "markdown",
   "id": "a37a6d13",
   "metadata": {},
   "source": [
    "Limpeza e padronização dos valores do atributo \"Price\", aplicando uma função ao longo do eixo do DataFrame."
   ]
  },
  {
   "cell_type": "code",
   "execution_count": null,
   "id": "f1e12450",
   "metadata": {},
   "outputs": [],
   "source": [
    "df.Price = df.Price.apply(lambda x: x.strip('$'))\n",
    "df.Price=pd.to_numeric(df.Price)\n",
    "df.Price.unique().astype(float)"
   ]
  },
  {
   "cell_type": "markdown",
   "id": "8cf658f2",
   "metadata": {},
   "source": [
    "O aplicativo mais caro de cada categoria custa quanto?\n",
    "\n",
    "\n",
    "```df.groupby()``` - Agrupar o DataFrame usando um mapeador ou uma série de colunas.\n"
   ]
  },
  {
   "cell_type": "code",
   "execution_count": null,
   "id": "6efdc2f6",
   "metadata": {
    "scrolled": true
   },
   "outputs": [],
   "source": [
    "df.groupby([\"Category\"])[\"Price\"].max().head(200).sort_values(ascending=False)"
   ]
  },
  {
   "cell_type": "markdown",
   "id": "78b87341",
   "metadata": {},
   "source": [
    "Valores dos aplicativos mais caros"
   ]
  },
  {
   "cell_type": "code",
   "execution_count": null,
   "id": "a339bd10",
   "metadata": {},
   "outputs": [],
   "source": [
    "df[(df.Price > 39.99)][[\"Price\", \"App\", \"Category\"]].sort_values(by='Price', ascending=False)"
   ]
  },
  {
   "cell_type": "markdown",
   "id": "aba7bfa1",
   "metadata": {},
   "source": [
    "### 3. Número de aplicativos de acordo com a faixa etária e gênero\n",
    "\n",
    "- Quantos aplicativos existem em cada gênero para as diferentes faixa etária?"
   ]
  },
  {
   "cell_type": "markdown",
   "id": "fa895c02",
   "metadata": {},
   "source": [
    "Verificando os gêneros existentes"
   ]
  },
  {
   "cell_type": "code",
   "execution_count": null,
   "id": "d82c8ad1",
   "metadata": {
    "scrolled": true
   },
   "outputs": [],
   "source": [
    "generos = df['Genres'].unique()\n",
    "generos"
   ]
  },
  {
   "cell_type": "markdown",
   "id": "e73f4cd7",
   "metadata": {},
   "source": [
    "Verificando a quantidade de aplicativos existentes de acordo com a faixa etária"
   ]
  },
  {
   "cell_type": "code",
   "execution_count": null,
   "id": "f7448510",
   "metadata": {},
   "outputs": [],
   "source": [
    "df['Content Rating'].value_counts()"
   ]
  },
  {
   "cell_type": "markdown",
   "id": "60bbf0eb",
   "metadata": {},
   "source": [
    "Verificando a quantidade de aplicativos existentes de acordo com o gênero e a faixa etária"
   ]
  },
  {
   "cell_type": "code",
   "execution_count": null,
   "id": "b6b468dd",
   "metadata": {
    "scrolled": false
   },
   "outputs": [],
   "source": [
    "groupby_gen_rating = df.groupby([\"Genres\"])[\"Content Rating\"].value_counts()\n",
    "\n",
    "'''for genero in generos:\n",
    "    print(f'-- Gênero: {genero} --')\n",
    "    print(f'{groupby_gen_rating}\\n')'''\n",
    "\n",
    "groupby_gen_rating"
   ]
  },
  {
   "cell_type": "markdown",
   "id": "ac2c107b",
   "metadata": {},
   "source": [
    "### 4. Qual a Classificação dos Aplicativos de acordo com o Tipo (pago ou gratuito)?\n",
    "\n",
    "\n",
    "**Rating** - Classificação geral do usuário do aplicativo\n",
    "\n",
    "**Type** - Tipo: Pago ou Gratuito"
   ]
  },
  {
   "cell_type": "markdown",
   "id": "6920a8c2",
   "metadata": {},
   "source": [
    "Quantidade de apps de acordo com a avaliação"
   ]
  },
  {
   "cell_type": "code",
   "execution_count": null,
   "id": "79dc06f3",
   "metadata": {},
   "outputs": [],
   "source": [
    "df['Rating'].unique()"
   ]
  },
  {
   "cell_type": "code",
   "execution_count": null,
   "id": "80c615a5",
   "metadata": {},
   "outputs": [],
   "source": [
    "df['Rating'].value_counts().head(39)"
   ]
  },
  {
   "cell_type": "markdown",
   "id": "801a6c76",
   "metadata": {},
   "source": [
    "Quantidade de apps de acordo com o tipo"
   ]
  },
  {
   "cell_type": "code",
   "execution_count": null,
   "id": "04f3c126",
   "metadata": {},
   "outputs": [],
   "source": [
    "df.Type.value_counts()"
   ]
  },
  {
   "cell_type": "markdown",
   "id": "17c338cb",
   "metadata": {},
   "source": [
    "Média das notas (avaliação) recebida por cada tipo "
   ]
  },
  {
   "cell_type": "code",
   "execution_count": null,
   "id": "bf228e4c",
   "metadata": {},
   "outputs": [],
   "source": [
    "df.groupby([\"Type\"])[\"Rating\"].mean()"
   ]
  },
  {
   "cell_type": "code",
   "execution_count": null,
   "id": "4695f58f",
   "metadata": {},
   "outputs": [],
   "source": [
    "#df.groupby([\"Category\", \"Type\"])[\"Rating\"].mean()"
   ]
  },
  {
   "cell_type": "markdown",
   "id": "6f1c9173",
   "metadata": {},
   "source": [
    "### 5. Quais categorias de app possuem a melhor e a pior classificação?"
   ]
  },
  {
   "cell_type": "code",
   "execution_count": null,
   "id": "a7048708",
   "metadata": {},
   "outputs": [],
   "source": [
    "df.groupby([\"Category\"])[\"Rating\"].mean().sort_values(ascending=False)"
   ]
  },
  {
   "cell_type": "markdown",
   "id": "70cb2a99",
   "metadata": {},
   "source": [
    "Quais aplicativos possuem avaliação mínima?"
   ]
  },
  {
   "cell_type": "code",
   "execution_count": null,
   "id": "3fe898de",
   "metadata": {},
   "outputs": [],
   "source": [
    "print(\"Range: \", df.Rating.min(),\"-\",df.Rating.max())"
   ]
  },
  {
   "cell_type": "code",
   "execution_count": null,
   "id": "a9f91876",
   "metadata": {},
   "outputs": [],
   "source": [
    "df[(df.Rating == df.Rating.min())][[\"App\", \"Rating\", \"Category\"]]"
   ]
  },
  {
   "cell_type": "markdown",
   "id": "62494ed7",
   "metadata": {},
   "source": [
    "Quais aplicativos possuem avaliação máxima?"
   ]
  },
  {
   "cell_type": "code",
   "execution_count": null,
   "id": "b4a6dccd",
   "metadata": {},
   "outputs": [],
   "source": [
    "df[(df.Rating == df.Rating.max())][[\"App\", \"Rating\", \"Category\"]]"
   ]
  }
 ],
 "metadata": {
  "kernelspec": {
   "display_name": "Python 3 (ipykernel)",
   "language": "python",
   "name": "python3"
  },
  "language_info": {
   "codemirror_mode": {
    "name": "ipython",
    "version": 3
   },
   "file_extension": ".py",
   "mimetype": "text/x-python",
   "name": "python",
   "nbconvert_exporter": "python",
   "pygments_lexer": "ipython3",
   "version": "3.9.12"
  }
 },
 "nbformat": 4,
 "nbformat_minor": 5
}
